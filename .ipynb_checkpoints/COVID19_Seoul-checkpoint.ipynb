{
 "cells": [
  {
   "cell_type": "markdown",
   "metadata": {},
   "source": [
    "# COVID-19 in Seoul\n",
    "> http://www.seoul.go.kr/coronaV/coronaStatus.do\n",
    "- 매일 업데이트 되는 Data\n",
    "- 확진자 현황이 제대로 나오지 않음\n",
    "- Pandas 통한 크롤링(crawling)"
   ]
  },
  {
   "cell_type": "markdown",
   "metadata": {},
   "source": [
    "# Import "
   ]
  },
  {
   "cell_type": "code",
   "execution_count": 1,
   "metadata": {
    "ExecuteTime": {
     "end_time": "2021-09-13T13:46:18.640365Z",
     "start_time": "2021-09-13T13:46:15.159585Z"
    }
   },
   "outputs": [],
   "source": [
    "import pandas as pd\n",
    "import numpy as np\n",
    "import matplotlib.pyplot as plt"
   ]
  },
  {
   "cell_type": "markdown",
   "metadata": {},
   "source": [
    "# Crawling"
   ]
  },
  {
   "cell_type": "markdown",
   "metadata": {},
   "source": [
    "## requests & beautifulsoup\n",
    "> requests\n",
    "- url을 활용해 html 소스를 가져오는 역할\n",
    "\n",
    "> beautifulsoup\n",
    "- HTML의 태그를 파싱해서 필요한 데이터만 추출하는 함수를 제공하는 라이브러리"
   ]
  },
  {
   "cell_type": "code",
   "execution_count": 2,
   "metadata": {
    "ExecuteTime": {
     "end_time": "2021-09-13T13:46:19.936600Z",
     "start_time": "2021-09-13T13:46:18.650383Z"
    }
   },
   "outputs": [],
   "source": [
    "import requests\n",
    "from bs4 import BeautifulSoup"
   ]
  },
  {
   "cell_type": "code",
   "execution_count": 3,
   "metadata": {
    "ExecuteTime": {
     "end_time": "2021-09-13T13:46:20.553707Z",
     "start_time": "2021-09-13T13:46:19.951188Z"
    },
    "scrolled": true
   },
   "outputs": [
    {
     "name": "stdout",
     "output_type": "stream",
     "text": [
      "<!doctype html><html itemscope=\"\" itemtype=\"http://schema.org/WebPage\" lang=\"ko\"><head><meta content=\"text/html; charset=UTF-8\" http-equiv=\"Content-Type\"><meta content=\"/images/branding/googleg/1x/googleg_standard_color_128dp.png\" itemprop=\"image\"><title>Google</title><script nonce=\"YMmgc1i6wBd6H0+dn40N7w==\">(function(){window.google={kEI:'LFY_YeekGoaD-Ab19afQDg',kEXPI:'0,772215,1,530260,60,56873,954,5104,207,4804,2316,383,246,5,1354,5251,1122515,1197725,557,112,328873,51223,16109,28690,17572,4859,1361,284,9006,3023,17586,4020,978,13228,3847,4192,6430,19045,2777,921,5079,1593,1279,2212,530,149,1103,840,6297,108,3406,606,2023,1777,520,6343,8327,3227,2845,7,5599,6755,5096,16320,908,2,941,2614,13142,3,576,6460,148,13975,4,1528,2304,1236,5803,4684,2014,13611,4764,2658,4242,2459,656,30,11412,2216,2305,638,1494,5586,3772,7428,5788,2569,992,3102,3138,6,908,3,3541,1,14710,1814,283,38,874,5998,16722,1715,2,3057,10965,1931,3909,1680,743,5853,1576,3,472,7354,1058,1160,1266,3,4918,2,220,290,2118,263,2719,4545,3,125,16,5332,4635,1214,2426,2,6,4885,2833,1933,2635,243,1354,981,3132,549,2467,2107,793,1265,896,1970,280,720,2,1476,41,2,1629,1875,688,331,1312,132,97,315,21,91,316,35,675,12,2373,440,20,1327,257,7,504,25,2,658,219,2,905,568,250,1075,196,549,351,2,6,721,39,70,14,410,839,2,663,80,99,2,146,1297,112,158,556,8,225,365,2498,2366,5576801,446,72,11,77,46,75,5996587,206,2800491,882,444,1,2,80,1,1796,1,9,2553,1,748,141,795,563,1,4265,1,1,2,1331,4142,2609,155,17,13,72,139,4,2,20,2,169,13,19,46,5,39,96,548,29,2,2,1,2,1,2,2,7,4,1,2,2,2,2,2,2,353,513,186,1,1,158,3,2,2,2,2,2,4,2,3,3,269,364,103,34,9,4,6,24,3,4,3,23654304,299864,4041352,338,3,2414,448,2,463,172,406,9,3235,682,858,925,799307',kBL:'myGb'};google.sn='webhp';google.kHL='ko';})();(function(){\n",
      "var f=this||self;var h,k=[];function l(a){for(var b;a&&(!a.getAttribute||!(b=a.getAttribute(\"eid\")));)a=a.parentNode;return b||h}function m(a){for(var b=null;a&&(!a.getAttribute||!(b=a.getAttribute(\"leid\")));)a=a.parentNode;return b}\n",
      "function n(a,b,c,d,g){var e=\"\";c||-1!==b.search(\"&ei=\")||(e=\"&ei=\"+l(d),-1===b.search(\"&lei=\")&&(d=m(d))&&(e+=\"&lei=\"+d));d=\"\";!c&&f._cshid&&-1===b.search(\"&cshid=\")&&\"slh\"!==a&&(d=\"&cshid=\"+f._cshid);c=c||\"/\"+(g||\"gen_204\")+\"?atyp=i&ct=\"+a+\"&cad=\"+b+e+\"&zx=\"+Date.now()+d;/^http:/i.test(c)&&\"https:\"===window.location.protocol&&(google.ml&&google.ml(Error(\"a\"),!1,{src:c,glmm:1}),c=\"\");return c};h=google.kEI;google.getEI=l;google.getLEI=m;google.ml=function(){return null};google.log=function(a,b,c,d,g){if(c=n(a,b,c,d,g)){a=new Image;var e=k.length;k[e]=a;a.onerror=a.onload=a.onabort=function(){delete k[e]};a.src=c}};google.logUrl=n;}).call(this);(function(){\n",
      "google.y={};google.sy=[];google.x=function(a,b){if(a)var c=a.id;else{do c=Math.random();while(google.y[c])}google.y[c]=[a,b];return!1};google.sx=function(a){google.sy.push(a)};google.lm=[];google.plm=function(a){google.lm.push.apply(google.lm,a)};google.lq=[];google.load=function(a,b,c){google.lq.push([[a],b,c])};google.loadAll=function(a,b){google.lq.push([a,b])};google.bx=!1;google.lx=function(){};}).call(this);google.f={};(function(){\n",
      "document.documentElement.addEventListener(\"submit\",function(b){var a;if(a=b.target){var c=a.getAttribute(\"data-submitfalse\");a=\"1\"===c||\"q\"===c&&!a.elements.q.value?!0:!1}else a=!1;a&&(b.preventDefault(),b.stopPropagation())},!0);document.documentElement.addEventListener(\"click\",function(b){var a;a:{for(a=b.target;a&&a!==document.documentElement;a=a.parentElement)if(\"A\"===a.tagName){a=\"1\"===a.getAttribute(\"data-nohref\");break a}a=!1}a&&b.preventDefault()},!0);}).call(this);</script><style>#gbar,#guser{font-size:13px;padding-top:1px !important;}#gbar{height:22px}#guser{padding-bottom:7px !important;text-align:right}.gbh,.gbd{border-top:1px solid #c9d7f1;font-size:1px}.gbh{height:0;position:absolute;top:24px;width:100%}@media all{.gb1{height:22px;margin-right:.5em;vertical-align:top}#gbar{float:left}}a.gb1,a.gb4{text-decoration:underline !important}a.gb1,a.gb4{color:#00c !important}.gbi .gb4{color:#dd8e27 !important}.gbf .gb4{color:#900 !important}\n",
      "</style><style>body,td,a,p,.h{font-family:&#44404;&#47548;,&#46027;&#50880;,arial,sans-serif}.ko{font-size:9pt}body{margin:0;overflow-y:scroll}#gog{padding:3px 8px 0}td{line-height:.8em}.gac_m td{line-height:17px}form{margin-bottom:20px}.h{color:#1558d6}em{font-weight:bold;font-style:normal}.lst{height:25px;width:496px}.gsfi,.lst{font:18px arial,sans-serif}.gsfs{font:17px arial,sans-serif}.ds{display:inline-box;display:inline-block;margin:3px 0 4px;margin-left:4px}input{font-family:inherit}body{background:#fff;color:#000}a{color:#4b11a8;text-decoration:none}a:hover,a:active{text-decoration:underline}.fl a{color:#1558d6}a:visited{color:#4b11a8}.sblc{padding-top:5px}.sblc a{display:block;margin:2px 0;margin-left:13px;font-size:11px}.lsbb{background:#f8f9fa;border:solid 1px;border-color:#dadce0 #70757a #70757a #dadce0;height:30px}.lsbb{display:block}#WqQANb a{display:inline-block;margin:0 12px}.lsb{background:url(/images/nav_logo229.png) 0 -261px repeat-x;border:none;color:#000;cursor:pointer;height:30px;margin:0;outline:0;font:15px arial,sans-serif;vertical-align:top}.lsb:active{background:#dadce0}.lst:focus{outline:none}.tiah{width:458px}</style><script nonce=\"YMmgc1i6wBd6H0+dn40N7w==\">(function(){window.google.erd={sp:'hp',jsr:0,bv:81};\n",
      "var f=this||self;var g,h,k=null!==(g=f.mei)&&void 0!==g?g:1,l=null!==(h=f.sdo)&&void 0!==h?h:!0,n=0,p,q=google.erd,t=q.jsr;google.ml=function(a,b,e,m,d){d=void 0===d?2:d;b&&(p=a&&a.message);if(google.dl)return google.dl(a,d,e),null;if(0>t){window.console&&console.error(a,e);if(-2===t)throw a;b=!1}else b=!a||!a.message||\"Error loading script\"===a.message||n>=k&&!m?!1:!0;if(!b)return null;n++;e=e||{};b=encodeURIComponent;var c=\"/gen_204?atyp=i&ei=\"+b(google.kEI);google.kEXPI&&(c+=\"&jexpid=\"+b(google.kEXPI));c+=\"&srcpg=\"+b(q.sp)+\"&jsr=\"+b(q.jsr)+\"&bver=\"+b(q.bv)+(\"&jsel=\"+d);c+=\"&sn=\"+b(google.sn);for(var r in e)c+=\"&\",c+=b(r),c+=\"=\",c+=b(e[r]);c=c+\"&emsg=\"+b(a.name+\": \"+a.message);c=c+\"&jsst=\"+b(a.stack||\"N/A\");12288<=c.length&&(c=c.substr(0,12288));a=c;m||google.log(0,\"\",a);return a};window.onerror=function(a,b,e,m,d){p!==a&&google.ml(d instanceof Error?d:Error(a),!1,void 0,!1,google.dl?0:2);p=null;l&&n>=k&&(window.onerror=null)};})();</script></head><body bgcolor=\"#fff\"><script nonce=\"YMmgc1i6wBd6H0+dn40N7w==\">(function(){var src='/images/nav_logo229.png';var iesg=false;document.body.onload = function(){window.n && window.n();if (document.images){new Image().src=src;}\n",
      "if (!iesg){document.f&&document.f.q.focus();document.gbqf&&document.gbqf.q.focus();}\n",
      "}\n",
      "})();</script><div id=\"mngb\"><div id=gbar><nobr><b class=gb1>&#44160;&#49353;</b> <a class=gb1 href=\"https://www.google.co.kr/imghp?hl=ko&tab=wi\">&#51060;&#48120;&#51648;</a> <a class=gb1 href=\"https://maps.google.co.kr/maps?hl=ko&tab=wl\">&#51648;&#46020;</a> <a class=gb1 href=\"https://play.google.com/?hl=ko&tab=w8\">Play</a> <a class=gb1 href=\"https://www.youtube.com/?gl=KR&tab=w1\">YouTube</a> <a class=gb1 href=\"https://news.google.com/?tab=wn\">&#45684;&#49828;</a> <a class=gb1 href=\"https://mail.google.com/mail/?tab=wm\">Gmail</a> <a class=gb1 href=\"https://drive.google.com/?tab=wo\">&#46300;&#46972;&#51060;&#48652;</a> <a class=gb1 style=\"text-decoration:none\" href=\"https://www.google.co.kr/intl/ko/about/products?tab=wh\"><u>&#45908;&#48372;&#44592;</u> &raquo;</a></nobr></div><div id=guser width=100%><nobr><span id=gbn class=gbi></span><span id=gbf class=gbf></span><span id=gbe></span><a href=\"http://www.google.co.kr/history/optout?hl=ko\" class=gb4>&#50937; &#44592;&#47197;</a> | <a  href=\"/preferences?hl=ko\" class=gb4>&#49444;&#51221;</a> | <a target=_top id=gb_70 href=\"https://accounts.google.com/ServiceLogin?hl=ko&passive=true&continue=https://www.google.com/&ec=GAZAAQ\" class=gb4>&#47196;&#44536;&#51064;</a></nobr></div><div class=gbh style=left:0></div><div class=gbh style=right:0></div></div><center><br clear=\"all\" id=\"lgpd\"><div id=\"lga\"><img alt=\"Google\" height=\"92\" src=\"/images/branding/googlelogo/1x/googlelogo_white_background_color_272x92dp.png\" style=\"padding:28px 0 14px\" width=\"272\" id=\"hplogo\"><br><br></div><form action=\"/search\" name=\"f\"><table cellpadding=\"0\" cellspacing=\"0\"><tr valign=\"top\"><td width=\"25%\">&nbsp;</td><td align=\"center\" nowrap=\"\"><input name=\"ie\" value=\"ISO-8859-1\" type=\"hidden\"><input value=\"ko\" name=\"hl\" type=\"hidden\"><input name=\"source\" type=\"hidden\" value=\"hp\"><input name=\"biw\" type=\"hidden\"><input name=\"bih\" type=\"hidden\"><div class=\"ds\" style=\"height:32px;margin:4px 0\"><div style=\"position:relative;zoom:1\"><input class=\"lst tiah\" style=\"margin:0;padding:5px 8px 0 6px;vertical-align:top;color:#000;padding-right:38px\" autocomplete=\"off\" value=\"\" title=\"Google &#44160;&#49353;\" maxlength=\"2048\" name=\"q\" size=\"57\"><img src=\"/textinputassistant/tia.png\" style=\"position:absolute;cursor:pointer;right:5px;top:4px;z-index:300\" data-script-url=\"/textinputassistant/11/ko_tia.js\" id=\"tsuid1\" alt=\"\" height=\"23\" width=\"27\"><script nonce=\"YMmgc1i6wBd6H0+dn40N7w==\">(function(){var id='tsuid1';document.getElementById(id).onclick = function(){var s = document.createElement('script');s.src = this.getAttribute('data-script-url');(document.getElementById('xjsc')||document.body).appendChild(s);};})();</script></div></div><br style=\"line-height:0\"><span class=\"ds\"><span class=\"lsbb\"><input class=\"lsb\" value=\"Google &#44160;&#49353;\" name=\"btnG\" type=\"submit\"></span></span><span class=\"ds\"><span class=\"lsbb\"><input class=\"lsb\" id=\"tsuid2\" value=\"I&#8217;m Feeling Lucky\" name=\"btnI\" type=\"submit\"><script nonce=\"YMmgc1i6wBd6H0+dn40N7w==\">(function(){var id='tsuid2';document.getElementById(id).onclick = function(){if (this.form.q.value){this.checked = 1;if (this.form.iflsig)this.form.iflsig.disabled = false;}\n",
      "else top.location='/doodles/';};})();</script><input value=\"ALs-wAMAAAAAYT9kPBcQ7maE6U1lpFI2PiJbWVyjTAnZ\" name=\"iflsig\" type=\"hidden\"></span></span></td><td class=\"fl sblc\" align=\"left\" nowrap=\"\" width=\"25%\"><a href=\"/advanced_search?hl=ko&amp;authuser=0\">&#44256;&#44553;&#44160;&#49353;</a></td></tr></table><input id=\"gbv\" name=\"gbv\" type=\"hidden\" value=\"1\"><script nonce=\"YMmgc1i6wBd6H0+dn40N7w==\">(function(){\n",
      "var a,b=\"1\";if(document&&document.getElementById)if(\"undefined\"!=typeof XMLHttpRequest)b=\"2\";else if(\"undefined\"!=typeof ActiveXObject){var c,d,e=[\"MSXML2.XMLHTTP.6.0\",\"MSXML2.XMLHTTP.3.0\",\"MSXML2.XMLHTTP\",\"Microsoft.XMLHTTP\"];for(c=0;d=e[c++];)try{new ActiveXObject(d),b=\"2\"}catch(h){}}a=b;if(\"2\"==a&&-1==location.search.indexOf(\"&gbv=2\")){var f=google.gbvu,g=document.getElementById(\"gbv\");g&&(g.value=a);f&&window.setTimeout(function(){location.href=f},0)};}).call(this);</script></form><div id=\"gac_scont\"></div><div style=\"font-size:83%;min-height:3.5em\"><br></div><span id=\"footer\"><div style=\"font-size:10pt\"><div style=\"margin:19px auto;text-align:center\" id=\"WqQANb\"><a href=\"/intl/ko/ads/\">&#44305;&#44256; &#54532;&#47196;&#44536;&#47016;</a><a href=\"http://www.google.co.kr/intl/ko/services/\">&#48708;&#51592;&#45768;&#49828; &#49556;&#47336;&#49496;</a><a href=\"/intl/ko/about.html\">Google &#51221;&#48372;</a><a href=\"https://www.google.com/setprefdomain?prefdom=KR&amp;prev=https://www.google.co.kr/&amp;sig=K_fWCULynZi_q0e13ojMS_g3YizLw%3D\">Google.co.kr</a></div></div><p style=\"font-size:8pt;color:#70757a\">&copy; 2021 - <a href=\"/intl/ko/policies/privacy/\">&#44060;&#51064;&#51221;&#48372;&#52376;&#47532;&#48169;&#52840;</a> - <a href=\"/intl/ko/policies/terms/\">&#50557;&#44288;</a></p></span></center><script nonce=\"YMmgc1i6wBd6H0+dn40N7w==\">(function(){window.google.cdo={height:757,width:1440};(function(){\n",
      "var a=window.innerWidth,b=window.innerHeight;if(!a||!b){var c=window.document,d=\"CSS1Compat\"==c.compatMode?c.documentElement:c.body;a=d.clientWidth;b=d.clientHeight}a&&b&&(a!=google.cdo.width||b!=google.cdo.height)&&google.log(\"\",\"\",\"/client_204?&atyp=i&biw=\"+a+\"&bih=\"+b+\"&ei=\"+google.kEI);}).call(this);})();</script> <script nonce=\"YMmgc1i6wBd6H0+dn40N7w==\">(function(){google.xjs={ck:'',cs:'',excm:[]};})();</script>  <script nonce=\"YMmgc1i6wBd6H0+dn40N7w==\">(function(){var u='/xjs/_/js/k\\x3dxjs.hp.en.lJnEU8vr33E.O/am\\x3dAPgEWA/d\\x3d1/ed\\x3d1/rs\\x3dACT90oGJ5NvvtDtPbnWuyhtuSUv6jWAC6w/m\\x3dsb_he,d';\n",
      "var e=this||self,f=function(a){return a};var g;var l=function(a,b){this.g=b===h?a:\"\"};l.prototype.toString=function(){return this.g+\"\"};var h={};function m(){var a=u;google.lx=function(){n(a);google.lx=function(){}};google.bx||google.lx()}\n",
      "function n(a){google.timers&&google.timers.load&&google.tick&&google.tick(\"load\",\"xjsls\");var b=document;var c=\"SCRIPT\";\"application/xhtml+xml\"===b.contentType&&(c=c.toLowerCase());c=b.createElement(c);if(void 0===g){b=null;var k=e.trustedTypes;if(k&&k.createPolicy){try{b=k.createPolicy(\"goog#html\",{createHTML:f,createScript:f,createScriptURL:f})}catch(p){e.console&&e.console.error(p.message)}g=b}else g=b}a=(b=g)?b.createScriptURL(a):a;a=new l(a,h);c.src=a instanceof l&&a.constructor===l?a.g:\"type_error:TrustedResourceUrl\";var d;a=(c.ownerDocument&&c.ownerDocument.defaultView||window).document;(d=(b=null===(d=a.querySelector)||void 0===d?void 0:d.call(a,\"script[nonce]\"))?b.nonce||b.getAttribute(\"nonce\")||\"\":\"\")&&c.setAttribute(\"nonce\",d);document.body.appendChild(c);google.psa=!0};setTimeout(function(){m()},0);})();(function(){window.google.xjsu='/xjs/_/js/k\\x3dxjs.hp.en.lJnEU8vr33E.O/am\\x3dAPgEWA/d\\x3d1/ed\\x3d1/rs\\x3dACT90oGJ5NvvtDtPbnWuyhtuSUv6jWAC6w/m\\x3dsb_he,d';})();function _DumpException(e){throw e;}\n",
      "function _F_installCss(c){}\n",
      "(function(){google.jl={attn:false,blt:'none',chnk:0,dw:false,emtn:0,end:0,ine:false,lls:'default',pdt:0,rep:0,sif:true,snet:true,strt:0,ubm:false,uwp:true};})();(function(){var pmc='{\\x22d\\x22:{},\\x22sb_he\\x22:{\\x22agen\\x22:true,\\x22cgen\\x22:true,\\x22client\\x22:\\x22heirloom-hp\\x22,\\x22dh\\x22:true,\\x22dhqt\\x22:true,\\x22ds\\x22:\\x22\\x22,\\x22ffql\\x22:\\x22ko\\x22,\\x22fl\\x22:true,\\x22host\\x22:\\x22google.com\\x22,\\x22isbh\\x22:28,\\x22jsonp\\x22:true,\\x22msgs\\x22:{\\x22cibl\\x22:\\x22&#44160;&#49353;&#50612; &#51648;&#50864;&#44592;\\x22,\\x22dym\\x22:\\x22&#51060;&#44163;&#51012; &#52286;&#51004;&#49512;&#45208;&#50836;?\\x22,\\x22lcky\\x22:\\x22I&#8217;m Feeling Lucky\\x22,\\x22lml\\x22:\\x22&#51088;&#49464;&#55176; &#50508;&#50500;&#48372;&#44592;\\x22,\\x22oskt\\x22:\\x22&#51077;&#47141; &#46020;&#44396;\\x22,\\x22psrc\\x22:\\x22&#44160;&#49353;&#50612;&#44032; \\\\u003Ca href\\x3d\\\\\\x22/history\\\\\\x22\\\\u003E&#50937; &#44592;&#47197;\\\\u003C/a\\\\u003E&#50640;&#49436; &#49325;&#51228;&#46104;&#50632;&#49845;&#45768;&#45796;.\\x22,\\x22psrl\\x22:\\x22&#49325;&#51228;\\x22,\\x22sbit\\x22:\\x22&#51060;&#48120;&#51648;&#47196; &#44160;&#49353;\\x22,\\x22srch\\x22:\\x22Google &#44160;&#49353;\\x22},\\x22ovr\\x22:{},\\x22pq\\x22:\\x22\\x22,\\x22refpd\\x22:true,\\x22refspre\\x22:true,\\x22rfs\\x22:[],\\x22sbas\\x22:\\x220 3px 8px 0 rgba(0,0,0,0.2),0 0 0 1px rgba(0,0,0,0.08)\\x22,\\x22sbpl\\x22:16,\\x22sbpr\\x22:16,\\x22scd\\x22:10,\\x22stok\\x22:\\x22xqj5o2ksgXxJPmYZrrcruovJmDc\\x22,\\x22uhde\\x22:false}}';google.pmc=JSON.parse(pmc);})();</script>        </body></html>\n"
     ]
    }
   ],
   "source": [
    "def crawler(): \n",
    "    url = 'https://www.google.com'\n",
    "    html = requests.get(url)\n",
    "    print(html.text)\n",
    "\n",
    "crawler()"
   ]
  },
  {
   "cell_type": "markdown",
   "metadata": {},
   "source": [
    "## pandas\n",
    "> read_html\n",
    "- table tag\n",
    "- html에 있는 table속성에 해당하는 값을 가져올 수 있음.\n",
    "- 웹페이지에 있는 표를 불러오겠다는 의미."
   ]
  },
  {
   "cell_type": "code",
   "execution_count": 4,
   "metadata": {
    "ExecuteTime": {
     "end_time": "2021-09-13T13:46:20.613667Z",
     "start_time": "2021-09-13T13:46:20.570287Z"
    }
   },
   "outputs": [
    {
     "data": {
      "text/plain": [
       "'http://www.seoul.go.kr/coronaV/coronaStatus.do'"
      ]
     },
     "execution_count": 4,
     "metadata": {},
     "output_type": "execute_result"
    }
   ],
   "source": [
    "# 크롤링으로 가져올 url 주소\n",
    "url = \"http://www.seoul.go.kr/coronaV/coronaStatus.do\"\n",
    "url"
   ]
  },
  {
   "cell_type": "code",
   "execution_count": 5,
   "metadata": {
    "ExecuteTime": {
     "end_time": "2021-09-13T13:46:22.628795Z",
     "start_time": "2021-09-13T13:46:20.634043Z"
    }
   },
   "outputs": [
    {
     "data": {
      "text/plain": [
       "9"
      ]
     },
     "execution_count": 5,
     "metadata": {},
     "output_type": "execute_result"
    }
   ],
   "source": [
    "# read_html 은 사이트 내의 html 태그를 불러옴\n",
    "table = pd.read_html(url)\n",
    "len(table)"
   ]
  },
  {
   "cell_type": "code",
   "execution_count": 6,
   "metadata": {
    "ExecuteTime": {
     "end_time": "2021-09-13T13:46:22.848432Z",
     "start_time": "2021-09-13T13:46:22.633790Z"
    },
    "scrolled": true
   },
   "outputs": [
    {
     "data": {
      "text/plain": [
       "[    강남구   강동구   강북구   강서구   관악구   광진구   구로구   금천구   노원구   도봉구  동대문구   동작구  \\\n",
       " 0  6257  3296  2252  3881  4857  3002  3310  1741  3479  2261  2893  3744   \n",
       " 1   +24   +22    +8   +19   +30   +21   +28   +21   +29   +12   +26   +23   \n",
       " 2  서대문구   서초구   성동구   성북구   송파구   양천구  영등포구   용산구   은평구   종로구    중구   중랑구   \n",
       " 3  2365  3916  2505  3297  5268  2936  3837  2470  3818  1341  1344  3367   \n",
       " 4   +12   +17   +28   +24   +40   +11   +30   +11   +24    +7   +10   +18   \n",
       " \n",
       "     마포구  \n",
       " 0  3246  \n",
       " 1   +25  \n",
       " 2    기타  \n",
       " 3  6335  \n",
       " 4   +36  ,\n",
       "      강남구   강동구   강북구   강서구   관악구   광진구\n",
       " 0   6257  3296  2252  3881  4857  3002\n",
       " 1    +24   +22    +8   +19   +30   +21\n",
       " 2    구로구   금천구   노원구   도봉구  동대문구   동작구\n",
       " 3   3310  1741  3479  2261  2893  3744\n",
       " 4    +28   +21   +29   +12   +26   +23\n",
       " 5    마포구  서대문구   서초구   성동구   성북구   송파구\n",
       " 6   3246  2365  3916  2505  3297  5268\n",
       " 7    +25   +12   +17   +28   +24   +40\n",
       " 8    양천구  영등포구   용산구   은평구   종로구    중구\n",
       " 9   2936  3837  2470  3818  1341  1344\n",
       " 10   +11   +30   +11   +24    +7   +10\n",
       " 11   중랑구    기타   NaN   NaN   NaN   NaN\n",
       " 12  3367  6335   NaN   NaN   NaN   NaN\n",
       " 13   +18   +36   NaN   NaN   NaN   NaN,\n",
       "       구 분  합 계  9세 이하  10세~19세  20세~29세  30세~39세  40세~49세  50세~59세  60세~69세  \\\n",
       " 0  확진자(명)  556   27.0     46.0    128.0    103.0     98.0     73.0     55.0   \n",
       " 1   비율(%)  100    4.9      8.3     23.0     18.5     17.6     13.1      9.9   \n",
       " \n",
       "    70세 이상  \n",
       " 0    26.0  \n",
       " 1     4.7  ,\n",
       "       구 분   합 계  9세 이하  10세~19세  20세~29세  30세~39세  40세~49세  50세~59세  60세~69세  \\\n",
       " 0  확진자(명)  1933     16    138.0    611.0    278.0    173.0    169.0    304.0   \n",
       " 1   비율(%)   100      0      2.5      4.9     30.8      6.2      6.2     32.1   \n",
       " \n",
       "    70세~79세  \n",
       " 0    244.0  \n",
       " 1     17.3  ,\n",
       "        일자    9.12.    9.11.    9.10.     9.9.     9.8.     9.7.     9.6.\n",
       " 0  검사자(명)  39769.0  52028.0  70270.0  65066.0  63248.0  57248.0  71159.0\n",
       " 1  확진자(명)    556.0    658.0    659.0    670.0    667.0    671.0    482.0\n",
       " 2  확진율(%)      1.1      0.9      1.0      1.1      1.2      0.9      1.4,\n",
       "       소계  해외 유입  송파구 소재 시장 관련('21.9.)  동대문구 소재 직장 관련(‘21.9.)  \\\n",
       " 0  87018   1649                   114                     10   \n",
       " \n",
       "    양천구 소재 직장 관련('21.8.)  종로구 소재 병원 관련(‘21.9.)  기타 집단 감염  기타 확진자 접촉  \\\n",
       " 0                    74                    12     21562      33003   \n",
       " \n",
       "    타시도 확진자 접촉  감염 경로 조사중  \n",
       " 0        3914      26680  ,\n",
       " Empty DataFrame\n",
       " Columns: [연번, 환자, 확진일, 거주지, 여행력, 접촉력, 퇴원현황]\n",
       " Index: [],\n",
       " Empty DataFrame\n",
       " Columns: [연번, 환자, 확진일, 거주지, 여행력, 접촉력, 퇴원현황]\n",
       " Index: [],\n",
       "                     일                   월                  화  \\\n",
       " 0                 NaN                 NaN                NaN   \n",
       " 1   5  82,191  (+508)   6  82,655  (+464)  7  83,137  (+482)   \n",
       " 2  12  86,462  (+658)  13  87,018  (+556)                 14   \n",
       " 3                  19                  20                 21   \n",
       " 4                  26                  27                 28   \n",
       " \n",
       "                    수                  목                   금  \\\n",
       " 0  1  80,017  (+665)  2  80,576  (+559)   3  81,118  (+542)   \n",
       " 1  8  83,808  (+671)  9  84,475  (+667)  10  85,145  (+670)   \n",
       " 2                 15                 16                  17   \n",
       " 3                 22                 23                  24   \n",
       " 4                 29                 30                 NaN   \n",
       " \n",
       "                     토  \n",
       " 0   4  81,683  (+565)  \n",
       " 1  11  85,804  (+659)  \n",
       " 2                  18  \n",
       " 3                  25  \n",
       " 4                 NaN  ]"
      ]
     },
     "execution_count": 6,
     "metadata": {},
     "output_type": "execute_result"
    }
   ],
   "source": [
    "table"
   ]
  },
  {
   "cell_type": "code",
   "execution_count": 7,
   "metadata": {
    "ExecuteTime": {
     "end_time": "2021-09-13T13:46:22.981767Z",
     "start_time": "2021-09-13T13:46:22.856018Z"
    }
   },
   "outputs": [
    {
     "data": {
      "text/html": [
       "<div>\n",
       "<style scoped>\n",
       "    .dataframe tbody tr th:only-of-type {\n",
       "        vertical-align: middle;\n",
       "    }\n",
       "\n",
       "    .dataframe tbody tr th {\n",
       "        vertical-align: top;\n",
       "    }\n",
       "\n",
       "    .dataframe thead th {\n",
       "        text-align: right;\n",
       "    }\n",
       "</style>\n",
       "<table border=\"1\" class=\"dataframe\">\n",
       "  <thead>\n",
       "    <tr style=\"text-align: right;\">\n",
       "      <th></th>\n",
       "      <th>강남구</th>\n",
       "      <th>강동구</th>\n",
       "      <th>강북구</th>\n",
       "      <th>강서구</th>\n",
       "      <th>관악구</th>\n",
       "      <th>광진구</th>\n",
       "      <th>구로구</th>\n",
       "      <th>금천구</th>\n",
       "      <th>노원구</th>\n",
       "      <th>도봉구</th>\n",
       "      <th>동대문구</th>\n",
       "      <th>동작구</th>\n",
       "      <th>마포구</th>\n",
       "    </tr>\n",
       "  </thead>\n",
       "  <tbody>\n",
       "    <tr>\n",
       "      <th>0</th>\n",
       "      <td>6257</td>\n",
       "      <td>3296</td>\n",
       "      <td>2252</td>\n",
       "      <td>3881</td>\n",
       "      <td>4857</td>\n",
       "      <td>3002</td>\n",
       "      <td>3310</td>\n",
       "      <td>1741</td>\n",
       "      <td>3479</td>\n",
       "      <td>2261</td>\n",
       "      <td>2893</td>\n",
       "      <td>3744</td>\n",
       "      <td>3246</td>\n",
       "    </tr>\n",
       "    <tr>\n",
       "      <th>1</th>\n",
       "      <td>+24</td>\n",
       "      <td>+22</td>\n",
       "      <td>+8</td>\n",
       "      <td>+19</td>\n",
       "      <td>+30</td>\n",
       "      <td>+21</td>\n",
       "      <td>+28</td>\n",
       "      <td>+21</td>\n",
       "      <td>+29</td>\n",
       "      <td>+12</td>\n",
       "      <td>+26</td>\n",
       "      <td>+23</td>\n",
       "      <td>+25</td>\n",
       "    </tr>\n",
       "    <tr>\n",
       "      <th>2</th>\n",
       "      <td>서대문구</td>\n",
       "      <td>서초구</td>\n",
       "      <td>성동구</td>\n",
       "      <td>성북구</td>\n",
       "      <td>송파구</td>\n",
       "      <td>양천구</td>\n",
       "      <td>영등포구</td>\n",
       "      <td>용산구</td>\n",
       "      <td>은평구</td>\n",
       "      <td>종로구</td>\n",
       "      <td>중구</td>\n",
       "      <td>중랑구</td>\n",
       "      <td>기타</td>\n",
       "    </tr>\n",
       "    <tr>\n",
       "      <th>3</th>\n",
       "      <td>2365</td>\n",
       "      <td>3916</td>\n",
       "      <td>2505</td>\n",
       "      <td>3297</td>\n",
       "      <td>5268</td>\n",
       "      <td>2936</td>\n",
       "      <td>3837</td>\n",
       "      <td>2470</td>\n",
       "      <td>3818</td>\n",
       "      <td>1341</td>\n",
       "      <td>1344</td>\n",
       "      <td>3367</td>\n",
       "      <td>6335</td>\n",
       "    </tr>\n",
       "    <tr>\n",
       "      <th>4</th>\n",
       "      <td>+12</td>\n",
       "      <td>+17</td>\n",
       "      <td>+28</td>\n",
       "      <td>+24</td>\n",
       "      <td>+40</td>\n",
       "      <td>+11</td>\n",
       "      <td>+30</td>\n",
       "      <td>+11</td>\n",
       "      <td>+24</td>\n",
       "      <td>+7</td>\n",
       "      <td>+10</td>\n",
       "      <td>+18</td>\n",
       "      <td>+36</td>\n",
       "    </tr>\n",
       "  </tbody>\n",
       "</table>\n",
       "</div>"
      ],
      "text/plain": [
       "    강남구   강동구   강북구   강서구   관악구   광진구   구로구   금천구   노원구   도봉구  동대문구   동작구  \\\n",
       "0  6257  3296  2252  3881  4857  3002  3310  1741  3479  2261  2893  3744   \n",
       "1   +24   +22    +8   +19   +30   +21   +28   +21   +29   +12   +26   +23   \n",
       "2  서대문구   서초구   성동구   성북구   송파구   양천구  영등포구   용산구   은평구   종로구    중구   중랑구   \n",
       "3  2365  3916  2505  3297  5268  2936  3837  2470  3818  1341  1344  3367   \n",
       "4   +12   +17   +28   +24   +40   +11   +30   +11   +24    +7   +10   +18   \n",
       "\n",
       "    마포구  \n",
       "0  3246  \n",
       "1   +25  \n",
       "2    기타  \n",
       "3  6335  \n",
       "4   +36  "
      ]
     },
     "execution_count": 7,
     "metadata": {},
     "output_type": "execute_result"
    }
   ],
   "source": [
    "table[0]"
   ]
  },
  {
   "cell_type": "code",
   "execution_count": 8,
   "metadata": {
    "ExecuteTime": {
     "end_time": "2021-09-13T13:46:23.050481Z",
     "start_time": "2021-09-13T13:46:22.995365Z"
    }
   },
   "outputs": [
    {
     "data": {
      "text/html": [
       "<div>\n",
       "<style scoped>\n",
       "    .dataframe tbody tr th:only-of-type {\n",
       "        vertical-align: middle;\n",
       "    }\n",
       "\n",
       "    .dataframe tbody tr th {\n",
       "        vertical-align: top;\n",
       "    }\n",
       "\n",
       "    .dataframe thead th {\n",
       "        text-align: right;\n",
       "    }\n",
       "</style>\n",
       "<table border=\"1\" class=\"dataframe\">\n",
       "  <thead>\n",
       "    <tr style=\"text-align: right;\">\n",
       "      <th></th>\n",
       "      <th>강남구</th>\n",
       "      <th>강동구</th>\n",
       "      <th>강북구</th>\n",
       "      <th>강서구</th>\n",
       "      <th>관악구</th>\n",
       "      <th>광진구</th>\n",
       "    </tr>\n",
       "  </thead>\n",
       "  <tbody>\n",
       "    <tr>\n",
       "      <th>0</th>\n",
       "      <td>6257</td>\n",
       "      <td>3296</td>\n",
       "      <td>2252</td>\n",
       "      <td>3881</td>\n",
       "      <td>4857</td>\n",
       "      <td>3002</td>\n",
       "    </tr>\n",
       "    <tr>\n",
       "      <th>1</th>\n",
       "      <td>+24</td>\n",
       "      <td>+22</td>\n",
       "      <td>+8</td>\n",
       "      <td>+19</td>\n",
       "      <td>+30</td>\n",
       "      <td>+21</td>\n",
       "    </tr>\n",
       "    <tr>\n",
       "      <th>2</th>\n",
       "      <td>구로구</td>\n",
       "      <td>금천구</td>\n",
       "      <td>노원구</td>\n",
       "      <td>도봉구</td>\n",
       "      <td>동대문구</td>\n",
       "      <td>동작구</td>\n",
       "    </tr>\n",
       "    <tr>\n",
       "      <th>3</th>\n",
       "      <td>3310</td>\n",
       "      <td>1741</td>\n",
       "      <td>3479</td>\n",
       "      <td>2261</td>\n",
       "      <td>2893</td>\n",
       "      <td>3744</td>\n",
       "    </tr>\n",
       "    <tr>\n",
       "      <th>4</th>\n",
       "      <td>+28</td>\n",
       "      <td>+21</td>\n",
       "      <td>+29</td>\n",
       "      <td>+12</td>\n",
       "      <td>+26</td>\n",
       "      <td>+23</td>\n",
       "    </tr>\n",
       "    <tr>\n",
       "      <th>5</th>\n",
       "      <td>마포구</td>\n",
       "      <td>서대문구</td>\n",
       "      <td>서초구</td>\n",
       "      <td>성동구</td>\n",
       "      <td>성북구</td>\n",
       "      <td>송파구</td>\n",
       "    </tr>\n",
       "    <tr>\n",
       "      <th>6</th>\n",
       "      <td>3246</td>\n",
       "      <td>2365</td>\n",
       "      <td>3916</td>\n",
       "      <td>2505</td>\n",
       "      <td>3297</td>\n",
       "      <td>5268</td>\n",
       "    </tr>\n",
       "    <tr>\n",
       "      <th>7</th>\n",
       "      <td>+25</td>\n",
       "      <td>+12</td>\n",
       "      <td>+17</td>\n",
       "      <td>+28</td>\n",
       "      <td>+24</td>\n",
       "      <td>+40</td>\n",
       "    </tr>\n",
       "    <tr>\n",
       "      <th>8</th>\n",
       "      <td>양천구</td>\n",
       "      <td>영등포구</td>\n",
       "      <td>용산구</td>\n",
       "      <td>은평구</td>\n",
       "      <td>종로구</td>\n",
       "      <td>중구</td>\n",
       "    </tr>\n",
       "    <tr>\n",
       "      <th>9</th>\n",
       "      <td>2936</td>\n",
       "      <td>3837</td>\n",
       "      <td>2470</td>\n",
       "      <td>3818</td>\n",
       "      <td>1341</td>\n",
       "      <td>1344</td>\n",
       "    </tr>\n",
       "    <tr>\n",
       "      <th>10</th>\n",
       "      <td>+11</td>\n",
       "      <td>+30</td>\n",
       "      <td>+11</td>\n",
       "      <td>+24</td>\n",
       "      <td>+7</td>\n",
       "      <td>+10</td>\n",
       "    </tr>\n",
       "    <tr>\n",
       "      <th>11</th>\n",
       "      <td>중랑구</td>\n",
       "      <td>기타</td>\n",
       "      <td>NaN</td>\n",
       "      <td>NaN</td>\n",
       "      <td>NaN</td>\n",
       "      <td>NaN</td>\n",
       "    </tr>\n",
       "    <tr>\n",
       "      <th>12</th>\n",
       "      <td>3367</td>\n",
       "      <td>6335</td>\n",
       "      <td>NaN</td>\n",
       "      <td>NaN</td>\n",
       "      <td>NaN</td>\n",
       "      <td>NaN</td>\n",
       "    </tr>\n",
       "    <tr>\n",
       "      <th>13</th>\n",
       "      <td>+18</td>\n",
       "      <td>+36</td>\n",
       "      <td>NaN</td>\n",
       "      <td>NaN</td>\n",
       "      <td>NaN</td>\n",
       "      <td>NaN</td>\n",
       "    </tr>\n",
       "  </tbody>\n",
       "</table>\n",
       "</div>"
      ],
      "text/plain": [
       "     강남구   강동구   강북구   강서구   관악구   광진구\n",
       "0   6257  3296  2252  3881  4857  3002\n",
       "1    +24   +22    +8   +19   +30   +21\n",
       "2    구로구   금천구   노원구   도봉구  동대문구   동작구\n",
       "3   3310  1741  3479  2261  2893  3744\n",
       "4    +28   +21   +29   +12   +26   +23\n",
       "5    마포구  서대문구   서초구   성동구   성북구   송파구\n",
       "6   3246  2365  3916  2505  3297  5268\n",
       "7    +25   +12   +17   +28   +24   +40\n",
       "8    양천구  영등포구   용산구   은평구   종로구    중구\n",
       "9   2936  3837  2470  3818  1341  1344\n",
       "10   +11   +30   +11   +24    +7   +10\n",
       "11   중랑구    기타   NaN   NaN   NaN   NaN\n",
       "12  3367  6335   NaN   NaN   NaN   NaN\n",
       "13   +18   +36   NaN   NaN   NaN   NaN"
      ]
     },
     "execution_count": 8,
     "metadata": {},
     "output_type": "execute_result"
    }
   ],
   "source": [
    "# table 변수 안에 있는 table 태그의 값을 하나씩 읽어보며 확진자 목록이 있는 테이블을 가져옵니다.\n",
    "table[1]"
   ]
  },
  {
   "cell_type": "code",
   "execution_count": 9,
   "metadata": {
    "ExecuteTime": {
     "end_time": "2021-09-13T13:46:23.133297Z",
     "start_time": "2021-09-13T13:46:23.063251Z"
    }
   },
   "outputs": [
    {
     "data": {
      "text/html": [
       "<div>\n",
       "<style scoped>\n",
       "    .dataframe tbody tr th:only-of-type {\n",
       "        vertical-align: middle;\n",
       "    }\n",
       "\n",
       "    .dataframe tbody tr th {\n",
       "        vertical-align: top;\n",
       "    }\n",
       "\n",
       "    .dataframe thead th {\n",
       "        text-align: right;\n",
       "    }\n",
       "</style>\n",
       "<table border=\"1\" class=\"dataframe\">\n",
       "  <thead>\n",
       "    <tr style=\"text-align: right;\">\n",
       "      <th></th>\n",
       "      <th>구 분</th>\n",
       "      <th>합 계</th>\n",
       "      <th>9세 이하</th>\n",
       "      <th>10세~19세</th>\n",
       "      <th>20세~29세</th>\n",
       "      <th>30세~39세</th>\n",
       "      <th>40세~49세</th>\n",
       "      <th>50세~59세</th>\n",
       "      <th>60세~69세</th>\n",
       "      <th>70세 이상</th>\n",
       "    </tr>\n",
       "  </thead>\n",
       "  <tbody>\n",
       "    <tr>\n",
       "      <th>0</th>\n",
       "      <td>확진자(명)</td>\n",
       "      <td>556</td>\n",
       "      <td>27.0</td>\n",
       "      <td>46.0</td>\n",
       "      <td>128.0</td>\n",
       "      <td>103.0</td>\n",
       "      <td>98.0</td>\n",
       "      <td>73.0</td>\n",
       "      <td>55.0</td>\n",
       "      <td>26.0</td>\n",
       "    </tr>\n",
       "    <tr>\n",
       "      <th>1</th>\n",
       "      <td>비율(%)</td>\n",
       "      <td>100</td>\n",
       "      <td>4.9</td>\n",
       "      <td>8.3</td>\n",
       "      <td>23.0</td>\n",
       "      <td>18.5</td>\n",
       "      <td>17.6</td>\n",
       "      <td>13.1</td>\n",
       "      <td>9.9</td>\n",
       "      <td>4.7</td>\n",
       "    </tr>\n",
       "  </tbody>\n",
       "</table>\n",
       "</div>"
      ],
      "text/plain": [
       "      구 분  합 계  9세 이하  10세~19세  20세~29세  30세~39세  40세~49세  50세~59세  60세~69세  \\\n",
       "0  확진자(명)  556   27.0     46.0    128.0    103.0     98.0     73.0     55.0   \n",
       "1   비율(%)  100    4.9      8.3     23.0     18.5     17.6     13.1      9.9   \n",
       "\n",
       "   70세 이상  \n",
       "0    26.0  \n",
       "1     4.7  "
      ]
     },
     "execution_count": 9,
     "metadata": {},
     "output_type": "execute_result"
    }
   ],
   "source": [
    "# 검사 및 확진자 현황\n",
    "table[2]"
   ]
  },
  {
   "cell_type": "code",
   "execution_count": 10,
   "metadata": {
    "ExecuteTime": {
     "end_time": "2021-09-13T13:46:23.219440Z",
     "start_time": "2021-09-13T13:46:23.148677Z"
    }
   },
   "outputs": [
    {
     "data": {
      "text/html": [
       "<div>\n",
       "<style scoped>\n",
       "    .dataframe tbody tr th:only-of-type {\n",
       "        vertical-align: middle;\n",
       "    }\n",
       "\n",
       "    .dataframe tbody tr th {\n",
       "        vertical-align: top;\n",
       "    }\n",
       "\n",
       "    .dataframe thead th {\n",
       "        text-align: right;\n",
       "    }\n",
       "</style>\n",
       "<table border=\"1\" class=\"dataframe\">\n",
       "  <thead>\n",
       "    <tr style=\"text-align: right;\">\n",
       "      <th></th>\n",
       "      <th>구 분</th>\n",
       "      <th>합 계</th>\n",
       "      <th>9세 이하</th>\n",
       "      <th>10세~19세</th>\n",
       "      <th>20세~29세</th>\n",
       "      <th>30세~39세</th>\n",
       "      <th>40세~49세</th>\n",
       "      <th>50세~59세</th>\n",
       "      <th>60세~69세</th>\n",
       "      <th>70세~79세</th>\n",
       "    </tr>\n",
       "  </thead>\n",
       "  <tbody>\n",
       "    <tr>\n",
       "      <th>0</th>\n",
       "      <td>확진자(명)</td>\n",
       "      <td>1933</td>\n",
       "      <td>16</td>\n",
       "      <td>138.0</td>\n",
       "      <td>611.0</td>\n",
       "      <td>278.0</td>\n",
       "      <td>173.0</td>\n",
       "      <td>169.0</td>\n",
       "      <td>304.0</td>\n",
       "      <td>244.0</td>\n",
       "    </tr>\n",
       "    <tr>\n",
       "      <th>1</th>\n",
       "      <td>비율(%)</td>\n",
       "      <td>100</td>\n",
       "      <td>0</td>\n",
       "      <td>2.5</td>\n",
       "      <td>4.9</td>\n",
       "      <td>30.8</td>\n",
       "      <td>6.2</td>\n",
       "      <td>6.2</td>\n",
       "      <td>32.1</td>\n",
       "      <td>17.3</td>\n",
       "    </tr>\n",
       "  </tbody>\n",
       "</table>\n",
       "</div>"
      ],
      "text/plain": [
       "      구 분   합 계  9세 이하  10세~19세  20세~29세  30세~39세  40세~49세  50세~59세  60세~69세  \\\n",
       "0  확진자(명)  1933     16    138.0    611.0    278.0    173.0    169.0    304.0   \n",
       "1   비율(%)   100      0      2.5      4.9     30.8      6.2      6.2     32.1   \n",
       "\n",
       "   70세~79세  \n",
       "0    244.0  \n",
       "1     17.3  "
      ]
     },
     "execution_count": 10,
     "metadata": {},
     "output_type": "execute_result"
    }
   ],
   "source": [
    "# 주요 발생원인별 현황\n",
    "table[3]"
   ]
  },
  {
   "cell_type": "code",
   "execution_count": 11,
   "metadata": {
    "ExecuteTime": {
     "end_time": "2021-09-13T13:46:23.314255Z",
     "start_time": "2021-09-13T13:46:23.248602Z"
    }
   },
   "outputs": [
    {
     "data": {
      "text/html": [
       "<div>\n",
       "<style scoped>\n",
       "    .dataframe tbody tr th:only-of-type {\n",
       "        vertical-align: middle;\n",
       "    }\n",
       "\n",
       "    .dataframe tbody tr th {\n",
       "        vertical-align: top;\n",
       "    }\n",
       "\n",
       "    .dataframe thead th {\n",
       "        text-align: right;\n",
       "    }\n",
       "</style>\n",
       "<table border=\"1\" class=\"dataframe\">\n",
       "  <thead>\n",
       "    <tr style=\"text-align: right;\">\n",
       "      <th></th>\n",
       "      <th>일자</th>\n",
       "      <th>9.12.</th>\n",
       "      <th>9.11.</th>\n",
       "      <th>9.10.</th>\n",
       "      <th>9.9.</th>\n",
       "      <th>9.8.</th>\n",
       "      <th>9.7.</th>\n",
       "      <th>9.6.</th>\n",
       "    </tr>\n",
       "  </thead>\n",
       "  <tbody>\n",
       "    <tr>\n",
       "      <th>0</th>\n",
       "      <td>검사자(명)</td>\n",
       "      <td>39769.0</td>\n",
       "      <td>52028.0</td>\n",
       "      <td>70270.0</td>\n",
       "      <td>65066.0</td>\n",
       "      <td>63248.0</td>\n",
       "      <td>57248.0</td>\n",
       "      <td>71159.0</td>\n",
       "    </tr>\n",
       "    <tr>\n",
       "      <th>1</th>\n",
       "      <td>확진자(명)</td>\n",
       "      <td>556.0</td>\n",
       "      <td>658.0</td>\n",
       "      <td>659.0</td>\n",
       "      <td>670.0</td>\n",
       "      <td>667.0</td>\n",
       "      <td>671.0</td>\n",
       "      <td>482.0</td>\n",
       "    </tr>\n",
       "    <tr>\n",
       "      <th>2</th>\n",
       "      <td>확진율(%)</td>\n",
       "      <td>1.1</td>\n",
       "      <td>0.9</td>\n",
       "      <td>1.0</td>\n",
       "      <td>1.1</td>\n",
       "      <td>1.2</td>\n",
       "      <td>0.9</td>\n",
       "      <td>1.4</td>\n",
       "    </tr>\n",
       "  </tbody>\n",
       "</table>\n",
       "</div>"
      ],
      "text/plain": [
       "       일자    9.12.    9.11.    9.10.     9.9.     9.8.     9.7.     9.6.\n",
       "0  검사자(명)  39769.0  52028.0  70270.0  65066.0  63248.0  57248.0  71159.0\n",
       "1  확진자(명)    556.0    658.0    659.0    670.0    667.0    671.0    482.0\n",
       "2  확진율(%)      1.1      0.9      1.0      1.1      1.2      0.9      1.4"
      ]
     },
     "execution_count": 11,
     "metadata": {},
     "output_type": "execute_result"
    }
   ],
   "source": [
    "table[4]"
   ]
  },
  {
   "cell_type": "code",
   "execution_count": 12,
   "metadata": {
    "ExecuteTime": {
     "end_time": "2021-09-13T13:46:23.373544Z",
     "start_time": "2021-09-13T13:46:23.322235Z"
    }
   },
   "outputs": [
    {
     "data": {
      "text/html": [
       "<div>\n",
       "<style scoped>\n",
       "    .dataframe tbody tr th:only-of-type {\n",
       "        vertical-align: middle;\n",
       "    }\n",
       "\n",
       "    .dataframe tbody tr th {\n",
       "        vertical-align: top;\n",
       "    }\n",
       "\n",
       "    .dataframe thead th {\n",
       "        text-align: right;\n",
       "    }\n",
       "</style>\n",
       "<table border=\"1\" class=\"dataframe\">\n",
       "  <thead>\n",
       "    <tr style=\"text-align: right;\">\n",
       "      <th></th>\n",
       "      <th>소계</th>\n",
       "      <th>해외 유입</th>\n",
       "      <th>송파구 소재 시장 관련('21.9.)</th>\n",
       "      <th>동대문구 소재 직장 관련(‘21.9.)</th>\n",
       "      <th>양천구 소재 직장 관련('21.8.)</th>\n",
       "      <th>종로구 소재 병원 관련(‘21.9.)</th>\n",
       "      <th>기타 집단 감염</th>\n",
       "      <th>기타 확진자 접촉</th>\n",
       "      <th>타시도 확진자 접촉</th>\n",
       "      <th>감염 경로 조사중</th>\n",
       "    </tr>\n",
       "  </thead>\n",
       "  <tbody>\n",
       "    <tr>\n",
       "      <th>0</th>\n",
       "      <td>87018</td>\n",
       "      <td>1649</td>\n",
       "      <td>114</td>\n",
       "      <td>10</td>\n",
       "      <td>74</td>\n",
       "      <td>12</td>\n",
       "      <td>21562</td>\n",
       "      <td>33003</td>\n",
       "      <td>3914</td>\n",
       "      <td>26680</td>\n",
       "    </tr>\n",
       "  </tbody>\n",
       "</table>\n",
       "</div>"
      ],
      "text/plain": [
       "      소계  해외 유입  송파구 소재 시장 관련('21.9.)  동대문구 소재 직장 관련(‘21.9.)  \\\n",
       "0  87018   1649                   114                     10   \n",
       "\n",
       "   양천구 소재 직장 관련('21.8.)  종로구 소재 병원 관련(‘21.9.)  기타 집단 감염  기타 확진자 접촉  \\\n",
       "0                    74                    12     21562      33003   \n",
       "\n",
       "   타시도 확진자 접촉  감염 경로 조사중  \n",
       "0        3914      26680  "
      ]
     },
     "execution_count": 12,
     "metadata": {},
     "output_type": "execute_result"
    }
   ],
   "source": [
    "table[5]"
   ]
  },
  {
   "cell_type": "code",
   "execution_count": 13,
   "metadata": {
    "ExecuteTime": {
     "end_time": "2021-09-13T13:46:23.435419Z",
     "start_time": "2021-09-13T13:46:23.390589Z"
    },
    "scrolled": false
   },
   "outputs": [
    {
     "data": {
      "text/html": [
       "<div>\n",
       "<style scoped>\n",
       "    .dataframe tbody tr th:only-of-type {\n",
       "        vertical-align: middle;\n",
       "    }\n",
       "\n",
       "    .dataframe tbody tr th {\n",
       "        vertical-align: top;\n",
       "    }\n",
       "\n",
       "    .dataframe thead th {\n",
       "        text-align: right;\n",
       "    }\n",
       "</style>\n",
       "<table border=\"1\" class=\"dataframe\">\n",
       "  <thead>\n",
       "    <tr style=\"text-align: right;\">\n",
       "      <th></th>\n",
       "      <th>연번</th>\n",
       "      <th>환자</th>\n",
       "      <th>확진일</th>\n",
       "      <th>거주지</th>\n",
       "      <th>여행력</th>\n",
       "      <th>접촉력</th>\n",
       "      <th>퇴원현황</th>\n",
       "    </tr>\n",
       "  </thead>\n",
       "  <tbody>\n",
       "  </tbody>\n",
       "</table>\n",
       "</div>"
      ],
      "text/plain": [
       "Empty DataFrame\n",
       "Columns: [연번, 환자, 확진일, 거주지, 여행력, 접촉력, 퇴원현황]\n",
       "Index: []"
      ]
     },
     "execution_count": 13,
     "metadata": {},
     "output_type": "execute_result"
    }
   ],
   "source": [
    "# 8월 확진자수 & 전일대비 확진자 증가 수\n",
    "table[6]"
   ]
  },
  {
   "cell_type": "markdown",
   "metadata": {},
   "source": [
    "## save file"
   ]
  },
  {
   "cell_type": "code",
   "execution_count": 14,
   "metadata": {
    "ExecuteTime": {
     "end_time": "2021-09-13T13:46:23.463337Z",
     "start_time": "2021-09-13T13:46:23.448068Z"
    }
   },
   "outputs": [],
   "source": [
    "#last_day = df.loc[0, \"확진일\"]\n",
    "#last_day = last_day.replace(\".\", \"_\")\n",
    "\n",
    "#file_name = \"seoul_covid19_{}.csv\".format(last_day)\n",
    "#df.to_csv(file_name, index = False)"
   ]
  },
  {
   "cell_type": "markdown",
   "metadata": {},
   "source": [
    "# Load File (data)\n",
    "- crawling이 강의와 동일하게 되지 않고, 강의와 다르게 webpage가 update 됨.\n",
    "- 동일하게 했을 때 잘 되지 않아서 우선 동일한 엑셀파일 받아서 실습 진행 (~190630)"
   ]
  },
  {
   "cell_type": "code",
   "execution_count": 15,
   "metadata": {
    "ExecuteTime": {
     "end_time": "2021-09-13T13:46:23.620559Z",
     "start_time": "2021-09-13T13:46:23.482133Z"
    }
   },
   "outputs": [],
   "source": [
    "# 인강이 6월 데이터를 가지고 하니까 6월 우선 사용\n",
    "data = pd.read_csv(\"seoul-covid19_6_30_.csv\")\n",
    "data_11 = pd.read_csv(\"seoul-covid19_11_11_.csv\")"
   ]
  },
  {
   "cell_type": "code",
   "execution_count": 16,
   "metadata": {
    "ExecuteTime": {
     "end_time": "2021-09-13T13:46:23.672633Z",
     "start_time": "2021-09-13T13:46:23.627558Z"
    }
   },
   "outputs": [
    {
     "data": {
      "text/html": [
       "<div>\n",
       "<style scoped>\n",
       "    .dataframe tbody tr th:only-of-type {\n",
       "        vertical-align: middle;\n",
       "    }\n",
       "\n",
       "    .dataframe tbody tr th {\n",
       "        vertical-align: top;\n",
       "    }\n",
       "\n",
       "    .dataframe thead th {\n",
       "        text-align: right;\n",
       "    }\n",
       "</style>\n",
       "<table border=\"1\" class=\"dataframe\">\n",
       "  <thead>\n",
       "    <tr style=\"text-align: right;\">\n",
       "      <th></th>\n",
       "      <th>연번</th>\n",
       "      <th>환자</th>\n",
       "      <th>확진일</th>\n",
       "      <th>거주지</th>\n",
       "      <th>여행력</th>\n",
       "      <th>접촉력</th>\n",
       "      <th>조치사항</th>\n",
       "    </tr>\n",
       "  </thead>\n",
       "  <tbody>\n",
       "    <tr>\n",
       "      <th>0</th>\n",
       "      <td>1321</td>\n",
       "      <td>12830</td>\n",
       "      <td>6.30.</td>\n",
       "      <td>영등포구</td>\n",
       "      <td>-</td>\n",
       "      <td>영등포구 확진자 접촉</td>\n",
       "      <td>-</td>\n",
       "    </tr>\n",
       "    <tr>\n",
       "      <th>1</th>\n",
       "      <td>1320</td>\n",
       "      <td>12829</td>\n",
       "      <td>6.30.</td>\n",
       "      <td>관악구</td>\n",
       "      <td>-</td>\n",
       "      <td>확인 중</td>\n",
       "      <td>보라매병원</td>\n",
       "    </tr>\n",
       "    <tr>\n",
       "      <th>2</th>\n",
       "      <td>1319</td>\n",
       "      <td>12831</td>\n",
       "      <td>6.30.</td>\n",
       "      <td>영등포구</td>\n",
       "      <td>-</td>\n",
       "      <td>확인 중</td>\n",
       "      <td>중앙대학교병원</td>\n",
       "    </tr>\n",
       "    <tr>\n",
       "      <th>3</th>\n",
       "      <td>1318</td>\n",
       "      <td>12808</td>\n",
       "      <td>6.30.</td>\n",
       "      <td>관악구</td>\n",
       "      <td>-</td>\n",
       "      <td>강남구 역삼동 모임</td>\n",
       "      <td>보라매병원</td>\n",
       "    </tr>\n",
       "    <tr>\n",
       "      <th>4</th>\n",
       "      <td>1317</td>\n",
       "      <td>12809</td>\n",
       "      <td>6.30.</td>\n",
       "      <td>관악구</td>\n",
       "      <td>-</td>\n",
       "      <td>강남구 역삼동 모임</td>\n",
       "      <td>보라매병원</td>\n",
       "    </tr>\n",
       "  </tbody>\n",
       "</table>\n",
       "</div>"
      ],
      "text/plain": [
       "     연번     환자    확진일   거주지 여행력          접촉력     조치사항\n",
       "0  1321  12830  6.30.  영등포구   -  영등포구 확진자 접촉        -\n",
       "1  1320  12829  6.30.   관악구   -         확인 중    보라매병원\n",
       "2  1319  12831  6.30.  영등포구   -         확인 중  중앙대학교병원\n",
       "3  1318  12808  6.30.   관악구   -   강남구 역삼동 모임    보라매병원\n",
       "4  1317  12809  6.30.   관악구   -   강남구 역삼동 모임    보라매병원"
      ]
     },
     "execution_count": 16,
     "metadata": {},
     "output_type": "execute_result"
    }
   ],
   "source": [
    "data.head()"
   ]
  },
  {
   "cell_type": "code",
   "execution_count": 17,
   "metadata": {
    "ExecuteTime": {
     "end_time": "2021-09-13T13:46:23.747552Z",
     "start_time": "2021-09-13T13:46:23.686623Z"
    }
   },
   "outputs": [
    {
     "data": {
      "text/html": [
       "<div>\n",
       "<style scoped>\n",
       "    .dataframe tbody tr th:only-of-type {\n",
       "        vertical-align: middle;\n",
       "    }\n",
       "\n",
       "    .dataframe tbody tr th {\n",
       "        vertical-align: top;\n",
       "    }\n",
       "\n",
       "    .dataframe thead th {\n",
       "        text-align: right;\n",
       "    }\n",
       "</style>\n",
       "<table border=\"1\" class=\"dataframe\">\n",
       "  <thead>\n",
       "    <tr style=\"text-align: right;\">\n",
       "      <th></th>\n",
       "      <th>연번</th>\n",
       "      <th>환자</th>\n",
       "      <th>확진일</th>\n",
       "      <th>거주지</th>\n",
       "      <th>여행력</th>\n",
       "      <th>접촉력</th>\n",
       "      <th>조치사항</th>\n",
       "    </tr>\n",
       "  </thead>\n",
       "  <tbody>\n",
       "    <tr>\n",
       "      <th>1316</th>\n",
       "      <td>5</td>\n",
       "      <td>9</td>\n",
       "      <td>1.31.</td>\n",
       "      <td>성북구</td>\n",
       "      <td>-</td>\n",
       "      <td>#5 접촉</td>\n",
       "      <td>서울의료원(퇴원)</td>\n",
       "    </tr>\n",
       "    <tr>\n",
       "      <th>1317</th>\n",
       "      <td>4</td>\n",
       "      <td>7</td>\n",
       "      <td>1.30.</td>\n",
       "      <td>마포구</td>\n",
       "      <td>중국 우한시</td>\n",
       "      <td>해외 접촉</td>\n",
       "      <td>서울의료원(퇴원)</td>\n",
       "    </tr>\n",
       "    <tr>\n",
       "      <th>1318</th>\n",
       "      <td>3</td>\n",
       "      <td>6</td>\n",
       "      <td>1.30.</td>\n",
       "      <td>종로구</td>\n",
       "      <td>-</td>\n",
       "      <td>#3 접촉</td>\n",
       "      <td>서울대학교병원(퇴원)</td>\n",
       "    </tr>\n",
       "    <tr>\n",
       "      <th>1319</th>\n",
       "      <td>2</td>\n",
       "      <td>5</td>\n",
       "      <td>1.30.</td>\n",
       "      <td>중랑구</td>\n",
       "      <td>중국 우한시</td>\n",
       "      <td>해외 접촉</td>\n",
       "      <td>서울의료원(퇴원)</td>\n",
       "    </tr>\n",
       "    <tr>\n",
       "      <th>1320</th>\n",
       "      <td>1</td>\n",
       "      <td>2</td>\n",
       "      <td>1.24.</td>\n",
       "      <td>강서구</td>\n",
       "      <td>중국 우한시</td>\n",
       "      <td>해외 접촉</td>\n",
       "      <td>국립중앙의료원(퇴원)</td>\n",
       "    </tr>\n",
       "  </tbody>\n",
       "</table>\n",
       "</div>"
      ],
      "text/plain": [
       "      연번  환자    확진일  거주지     여행력    접촉력         조치사항\n",
       "1316   5   9  1.31.  성북구       -  #5 접촉    서울의료원(퇴원)\n",
       "1317   4   7  1.30.  마포구  중국 우한시  해외 접촉    서울의료원(퇴원)\n",
       "1318   3   6  1.30.  종로구       -  #3 접촉  서울대학교병원(퇴원)\n",
       "1319   2   5  1.30.  중랑구  중국 우한시  해외 접촉    서울의료원(퇴원)\n",
       "1320   1   2  1.24.  강서구  중국 우한시  해외 접촉  국립중앙의료원(퇴원)"
      ]
     },
     "execution_count": 17,
     "metadata": {},
     "output_type": "execute_result"
    }
   ],
   "source": [
    "data.tail()"
   ]
  },
  {
   "cell_type": "code",
   "execution_count": 18,
   "metadata": {
    "ExecuteTime": {
     "end_time": "2021-09-13T13:46:23.773483Z",
     "start_time": "2021-09-13T13:46:23.761579Z"
    },
    "scrolled": true
   },
   "outputs": [
    {
     "data": {
      "text/plain": [
       "(1321, 7)"
      ]
     },
     "execution_count": 18,
     "metadata": {},
     "output_type": "execute_result"
    }
   ],
   "source": [
    "data.shape"
   ]
  },
  {
   "cell_type": "code",
   "execution_count": 19,
   "metadata": {
    "ExecuteTime": {
     "end_time": "2021-09-13T13:46:23.810439Z",
     "start_time": "2021-09-13T13:46:23.780948Z"
    }
   },
   "outputs": [
    {
     "name": "stdout",
     "output_type": "stream",
     "text": [
      "<class 'pandas.core.frame.DataFrame'>\n",
      "RangeIndex: 1321 entries, 0 to 1320\n",
      "Data columns (total 7 columns):\n",
      " #   Column  Non-Null Count  Dtype \n",
      "---  ------  --------------  ----- \n",
      " 0   연번      1321 non-null   int64 \n",
      " 1   환자      1321 non-null   int64 \n",
      " 2   확진일     1321 non-null   object\n",
      " 3   거주지     1321 non-null   object\n",
      " 4   여행력     1321 non-null   object\n",
      " 5   접촉력     1321 non-null   object\n",
      " 6   조치사항    1321 non-null   object\n",
      "dtypes: int64(2), object(5)\n",
      "memory usage: 72.4+ KB\n"
     ]
    }
   ],
   "source": [
    "data.info()"
   ]
  },
  {
   "cell_type": "markdown",
   "metadata": {},
   "source": [
    "# Check&Revise Data"
   ]
  },
  {
   "cell_type": "markdown",
   "metadata": {},
   "source": [
    "## 확진일"
   ]
  },
  {
   "cell_type": "markdown",
   "metadata": {},
   "source": [
    "### revise"
   ]
  },
  {
   "cell_type": "code",
   "execution_count": 20,
   "metadata": {
    "ExecuteTime": {
     "end_time": "2021-09-13T13:46:23.830359Z",
     "start_time": "2021-09-13T13:46:23.815447Z"
    }
   },
   "outputs": [
    {
     "data": {
      "text/plain": [
       "0       6.30.\n",
       "1       6.30.\n",
       "2       6.30.\n",
       "3       6.30.\n",
       "4       6.30.\n",
       "        ...  \n",
       "1316    1.31.\n",
       "1317    1.30.\n",
       "1318    1.30.\n",
       "1319    1.30.\n",
       "1320    1.24.\n",
       "Name: 확진일, Length: 1321, dtype: object"
      ]
     },
     "execution_count": 20,
     "metadata": {},
     "output_type": "execute_result"
    }
   ],
   "source": [
    "data['확진일']"
   ]
  },
  {
   "cell_type": "code",
   "execution_count": 21,
   "metadata": {
    "ExecuteTime": {
     "end_time": "2021-09-13T13:46:23.919975Z",
     "start_time": "2021-09-13T13:46:23.847364Z"
    }
   },
   "outputs": [
    {
     "data": {
      "text/plain": [
       "3.10.    46\n",
       "6.12.    30\n",
       "6.06.    29\n",
       "6.05.    27\n",
       "3.9.     26\n",
       "         ..\n",
       "5.17.     1\n",
       "5.31.     1\n",
       "2.6.      1\n",
       "3.5.      1\n",
       "5.9.      1\n",
       "Name: 확진일, Length: 131, dtype: int64"
      ]
     },
     "execution_count": 21,
     "metadata": {},
     "output_type": "execute_result"
    }
   ],
   "source": [
    "data['확진일'].value_counts()"
   ]
  },
  {
   "cell_type": "code",
   "execution_count": 22,
   "metadata": {
    "ExecuteTime": {
     "end_time": "2021-09-13T13:46:24.247698Z",
     "start_time": "2021-09-13T13:46:23.941802Z"
    }
   },
   "outputs": [
    {
     "data": {
      "text/plain": [
       "0   2020-06-30\n",
       "1   2020-06-30\n",
       "2   2020-06-30\n",
       "3   2020-06-30\n",
       "4   2020-06-30\n",
       "Name: 확진일, dtype: datetime64[ns]"
      ]
     },
     "execution_count": 22,
     "metadata": {},
     "output_type": "execute_result"
    }
   ],
   "source": [
    "# 2020-06-30 형태로 변경\n",
    "data['확진일'] = pd.to_datetime('2020-' + data['확진일'].str.replace('.','-'))\n",
    "data['확진일'].head()"
   ]
  },
  {
   "cell_type": "code",
   "execution_count": 23,
   "metadata": {
    "ExecuteTime": {
     "end_time": "2021-09-13T13:46:24.410186Z",
     "start_time": "2021-09-13T13:46:24.270151Z"
    }
   },
   "outputs": [
    {
     "data": {
      "text/html": [
       "<div>\n",
       "<style scoped>\n",
       "    .dataframe tbody tr th:only-of-type {\n",
       "        vertical-align: middle;\n",
       "    }\n",
       "\n",
       "    .dataframe tbody tr th {\n",
       "        vertical-align: top;\n",
       "    }\n",
       "\n",
       "    .dataframe thead th {\n",
       "        text-align: right;\n",
       "    }\n",
       "</style>\n",
       "<table border=\"1\" class=\"dataframe\">\n",
       "  <thead>\n",
       "    <tr style=\"text-align: right;\">\n",
       "      <th></th>\n",
       "      <th>확진일</th>\n",
       "      <th>확진월일</th>\n",
       "    </tr>\n",
       "  </thead>\n",
       "  <tbody>\n",
       "    <tr>\n",
       "      <th>0</th>\n",
       "      <td>2020-06-30</td>\n",
       "      <td>06-30</td>\n",
       "    </tr>\n",
       "    <tr>\n",
       "      <th>1</th>\n",
       "      <td>2020-06-30</td>\n",
       "      <td>06-30</td>\n",
       "    </tr>\n",
       "    <tr>\n",
       "      <th>2</th>\n",
       "      <td>2020-06-30</td>\n",
       "      <td>06-30</td>\n",
       "    </tr>\n",
       "    <tr>\n",
       "      <th>3</th>\n",
       "      <td>2020-06-30</td>\n",
       "      <td>06-30</td>\n",
       "    </tr>\n",
       "    <tr>\n",
       "      <th>4</th>\n",
       "      <td>2020-06-30</td>\n",
       "      <td>06-30</td>\n",
       "    </tr>\n",
       "  </tbody>\n",
       "</table>\n",
       "</div>"
      ],
      "text/plain": [
       "         확진일   확진월일\n",
       "0 2020-06-30  06-30\n",
       "1 2020-06-30  06-30\n",
       "2 2020-06-30  06-30\n",
       "3 2020-06-30  06-30\n",
       "4 2020-06-30  06-30"
      ]
     },
     "execution_count": 23,
     "metadata": {},
     "output_type": "execute_result"
    }
   ],
   "source": [
    "data['확진월일'] = data['확진일'].astype(str).map(lambda x : x[-5:])\n",
    "data[['확진일', '확진월일']].head()"
   ]
  },
  {
   "cell_type": "code",
   "execution_count": 24,
   "metadata": {
    "ExecuteTime": {
     "end_time": "2021-09-13T13:46:24.503253Z",
     "start_time": "2021-09-13T13:46:24.427695Z"
    }
   },
   "outputs": [
    {
     "data": {
      "text/html": [
       "<div>\n",
       "<style scoped>\n",
       "    .dataframe tbody tr th:only-of-type {\n",
       "        vertical-align: middle;\n",
       "    }\n",
       "\n",
       "    .dataframe tbody tr th {\n",
       "        vertical-align: top;\n",
       "    }\n",
       "\n",
       "    .dataframe thead th {\n",
       "        text-align: right;\n",
       "    }\n",
       "</style>\n",
       "<table border=\"1\" class=\"dataframe\">\n",
       "  <thead>\n",
       "    <tr style=\"text-align: right;\">\n",
       "      <th></th>\n",
       "      <th>확진일</th>\n",
       "      <th>확진월</th>\n",
       "    </tr>\n",
       "  </thead>\n",
       "  <tbody>\n",
       "    <tr>\n",
       "      <th>0</th>\n",
       "      <td>2020-06-30</td>\n",
       "      <td>6</td>\n",
       "    </tr>\n",
       "    <tr>\n",
       "      <th>1</th>\n",
       "      <td>2020-06-30</td>\n",
       "      <td>6</td>\n",
       "    </tr>\n",
       "    <tr>\n",
       "      <th>2</th>\n",
       "      <td>2020-06-30</td>\n",
       "      <td>6</td>\n",
       "    </tr>\n",
       "    <tr>\n",
       "      <th>3</th>\n",
       "      <td>2020-06-30</td>\n",
       "      <td>6</td>\n",
       "    </tr>\n",
       "    <tr>\n",
       "      <th>4</th>\n",
       "      <td>2020-06-30</td>\n",
       "      <td>6</td>\n",
       "    </tr>\n",
       "  </tbody>\n",
       "</table>\n",
       "</div>"
      ],
      "text/plain": [
       "         확진일  확진월\n",
       "0 2020-06-30    6\n",
       "1 2020-06-30    6\n",
       "2 2020-06-30    6\n",
       "3 2020-06-30    6\n",
       "4 2020-06-30    6"
      ]
     },
     "execution_count": 24,
     "metadata": {},
     "output_type": "execute_result"
    }
   ],
   "source": [
    "data['확진월'] = data['확진일'].dt.month\n",
    "data[['확진일', '확진월']].head()"
   ]
  },
  {
   "cell_type": "code",
   "execution_count": 25,
   "metadata": {
    "ExecuteTime": {
     "end_time": "2021-09-13T13:46:24.602222Z",
     "start_time": "2021-09-13T13:46:24.517024Z"
    }
   },
   "outputs": [
    {
     "data": {
      "text/html": [
       "<div>\n",
       "<style scoped>\n",
       "    .dataframe tbody tr th:only-of-type {\n",
       "        vertical-align: middle;\n",
       "    }\n",
       "\n",
       "    .dataframe tbody tr th {\n",
       "        vertical-align: top;\n",
       "    }\n",
       "\n",
       "    .dataframe thead th {\n",
       "        text-align: right;\n",
       "    }\n",
       "</style>\n",
       "<table border=\"1\" class=\"dataframe\">\n",
       "  <thead>\n",
       "    <tr style=\"text-align: right;\">\n",
       "      <th></th>\n",
       "      <th>확진일</th>\n",
       "      <th>확진주</th>\n",
       "    </tr>\n",
       "  </thead>\n",
       "  <tbody>\n",
       "    <tr>\n",
       "      <th>0</th>\n",
       "      <td>2020-06-30</td>\n",
       "      <td>27</td>\n",
       "    </tr>\n",
       "    <tr>\n",
       "      <th>1</th>\n",
       "      <td>2020-06-30</td>\n",
       "      <td>27</td>\n",
       "    </tr>\n",
       "    <tr>\n",
       "      <th>2</th>\n",
       "      <td>2020-06-30</td>\n",
       "      <td>27</td>\n",
       "    </tr>\n",
       "    <tr>\n",
       "      <th>3</th>\n",
       "      <td>2020-06-30</td>\n",
       "      <td>27</td>\n",
       "    </tr>\n",
       "    <tr>\n",
       "      <th>4</th>\n",
       "      <td>2020-06-30</td>\n",
       "      <td>27</td>\n",
       "    </tr>\n",
       "  </tbody>\n",
       "</table>\n",
       "</div>"
      ],
      "text/plain": [
       "         확진일  확진주\n",
       "0 2020-06-30   27\n",
       "1 2020-06-30   27\n",
       "2 2020-06-30   27\n",
       "3 2020-06-30   27\n",
       "4 2020-06-30   27"
      ]
     },
     "execution_count": 25,
     "metadata": {},
     "output_type": "execute_result"
    }
   ],
   "source": [
    "# 해당 년도에서 몇번째 주인지\n",
    "data['확진주'] = data['확진일'].dt.week\n",
    "data[['확진일', '확진주']].head()"
   ]
  },
  {
   "cell_type": "markdown",
   "metadata": {},
   "source": [
    "### describe"
   ]
  },
  {
   "cell_type": "code",
   "execution_count": 26,
   "metadata": {
    "ExecuteTime": {
     "end_time": "2021-09-13T13:46:24.665020Z",
     "start_time": "2021-09-13T13:46:24.619643Z"
    }
   },
   "outputs": [],
   "source": [
    "day_count = data['확진월일'].value_counts().sort_index()"
   ]
  },
  {
   "cell_type": "code",
   "execution_count": 27,
   "metadata": {
    "ExecuteTime": {
     "end_time": "2021-09-13T13:46:24.733834Z",
     "start_time": "2021-09-13T13:46:24.682492Z"
    }
   },
   "outputs": [
    {
     "data": {
      "text/plain": [
       "count    130.000000\n",
       "mean      10.161538\n",
       "std        7.917015\n",
       "min        1.000000\n",
       "25%        4.000000\n",
       "50%        8.000000\n",
       "75%       15.000000\n",
       "max       46.000000\n",
       "Name: 확진월일, dtype: float64"
      ]
     },
     "execution_count": 27,
     "metadata": {},
     "output_type": "execute_result"
    }
   ],
   "source": [
    "day_count.describe()"
   ]
  },
  {
   "cell_type": "code",
   "execution_count": 28,
   "metadata": {
    "ExecuteTime": {
     "end_time": "2021-09-13T13:46:24.796488Z",
     "start_time": "2021-09-13T13:46:24.747160Z"
    }
   },
   "outputs": [
    {
     "name": "stdout",
     "output_type": "stream",
     "text": [
      "46\n",
      "03-10    46\n",
      "Name: 확진월일, dtype: int64\n"
     ]
    }
   ],
   "source": [
    "# 확진자가 가장 많았던 날과 확진자 수\n",
    "print(day_count.max())\n",
    "print(day_count[day_count == day_count.max()])"
   ]
  },
  {
   "cell_type": "code",
   "execution_count": 29,
   "metadata": {
    "ExecuteTime": {
     "end_time": "2021-09-13T13:46:24.947794Z",
     "start_time": "2021-09-13T13:46:24.810097Z"
    },
    "scrolled": true
   },
   "outputs": [
    {
     "data": {
      "text/html": [
       "<div>\n",
       "<style scoped>\n",
       "    .dataframe tbody tr th:only-of-type {\n",
       "        vertical-align: middle;\n",
       "    }\n",
       "\n",
       "    .dataframe tbody tr th {\n",
       "        vertical-align: top;\n",
       "    }\n",
       "\n",
       "    .dataframe thead th {\n",
       "        text-align: right;\n",
       "    }\n",
       "</style>\n",
       "<table border=\"1\" class=\"dataframe\">\n",
       "  <thead>\n",
       "    <tr style=\"text-align: right;\">\n",
       "      <th></th>\n",
       "      <th>연번</th>\n",
       "      <th>환자</th>\n",
       "      <th>확진일</th>\n",
       "      <th>거주지</th>\n",
       "      <th>여행력</th>\n",
       "      <th>접촉력</th>\n",
       "      <th>조치사항</th>\n",
       "      <th>확진월일</th>\n",
       "      <th>확진월</th>\n",
       "      <th>확진주</th>\n",
       "    </tr>\n",
       "  </thead>\n",
       "  <tbody>\n",
       "    <tr>\n",
       "      <th>1119</th>\n",
       "      <td>202</td>\n",
       "      <td>7567</td>\n",
       "      <td>2020-03-10</td>\n",
       "      <td>노원구</td>\n",
       "      <td>-</td>\n",
       "      <td>콜센터직원 접촉</td>\n",
       "      <td>서울의료원(퇴원)</td>\n",
       "      <td>03-10</td>\n",
       "      <td>3</td>\n",
       "      <td>11</td>\n",
       "    </tr>\n",
       "    <tr>\n",
       "      <th>1120</th>\n",
       "      <td>201</td>\n",
       "      <td>7711</td>\n",
       "      <td>2020-03-10</td>\n",
       "      <td>노원구</td>\n",
       "      <td>-</td>\n",
       "      <td>콜센터직원 접촉</td>\n",
       "      <td>서울의료원(퇴원)</td>\n",
       "      <td>03-10</td>\n",
       "      <td>3</td>\n",
       "      <td>11</td>\n",
       "    </tr>\n",
       "    <tr>\n",
       "      <th>1121</th>\n",
       "      <td>200</td>\n",
       "      <td>7555</td>\n",
       "      <td>2020-03-10</td>\n",
       "      <td>구로구</td>\n",
       "      <td>-</td>\n",
       "      <td>구로구 콜센터 관련</td>\n",
       "      <td>서남병원(퇴원)</td>\n",
       "      <td>03-10</td>\n",
       "      <td>3</td>\n",
       "      <td>11</td>\n",
       "    </tr>\n",
       "    <tr>\n",
       "      <th>1122</th>\n",
       "      <td>199</td>\n",
       "      <td>7725</td>\n",
       "      <td>2020-03-10</td>\n",
       "      <td>양천구</td>\n",
       "      <td>-</td>\n",
       "      <td>구로구 콜센터 관련</td>\n",
       "      <td>서남병원(퇴원)</td>\n",
       "      <td>03-10</td>\n",
       "      <td>3</td>\n",
       "      <td>11</td>\n",
       "    </tr>\n",
       "    <tr>\n",
       "      <th>1123</th>\n",
       "      <td>198</td>\n",
       "      <td>7539</td>\n",
       "      <td>2020-03-10</td>\n",
       "      <td>양천구</td>\n",
       "      <td>-</td>\n",
       "      <td>콜센터직원 접촉</td>\n",
       "      <td>서남병원(퇴원)</td>\n",
       "      <td>03-10</td>\n",
       "      <td>3</td>\n",
       "      <td>11</td>\n",
       "    </tr>\n",
       "    <tr>\n",
       "      <th>1124</th>\n",
       "      <td>197</td>\n",
       "      <td>7524</td>\n",
       "      <td>2020-03-10</td>\n",
       "      <td>양천구</td>\n",
       "      <td>-</td>\n",
       "      <td>콜센터직원 접촉</td>\n",
       "      <td>서울의료원(퇴원)</td>\n",
       "      <td>03-10</td>\n",
       "      <td>3</td>\n",
       "      <td>11</td>\n",
       "    </tr>\n",
       "    <tr>\n",
       "      <th>1125</th>\n",
       "      <td>196</td>\n",
       "      <td>7619</td>\n",
       "      <td>2020-03-10</td>\n",
       "      <td>양천구</td>\n",
       "      <td>-</td>\n",
       "      <td>콜센터직원 접촉</td>\n",
       "      <td>서울의료원(퇴원)</td>\n",
       "      <td>03-10</td>\n",
       "      <td>3</td>\n",
       "      <td>11</td>\n",
       "    </tr>\n",
       "    <tr>\n",
       "      <th>1126</th>\n",
       "      <td>195</td>\n",
       "      <td>7795</td>\n",
       "      <td>2020-03-10</td>\n",
       "      <td>관악구</td>\n",
       "      <td>-</td>\n",
       "      <td>구로구 콜센터 관련</td>\n",
       "      <td>서남병원(퇴원)</td>\n",
       "      <td>03-10</td>\n",
       "      <td>3</td>\n",
       "      <td>11</td>\n",
       "    </tr>\n",
       "    <tr>\n",
       "      <th>1127</th>\n",
       "      <td>194</td>\n",
       "      <td>7787</td>\n",
       "      <td>2020-03-10</td>\n",
       "      <td>관악구</td>\n",
       "      <td>-</td>\n",
       "      <td>콜센터직원 접촉</td>\n",
       "      <td>서남병원(퇴원)</td>\n",
       "      <td>03-10</td>\n",
       "      <td>3</td>\n",
       "      <td>11</td>\n",
       "    </tr>\n",
       "    <tr>\n",
       "      <th>1128</th>\n",
       "      <td>193</td>\n",
       "      <td>7826</td>\n",
       "      <td>2020-03-10</td>\n",
       "      <td>관악구</td>\n",
       "      <td>-</td>\n",
       "      <td>콜센터직원 접촉</td>\n",
       "      <td>서남병원(퇴원)</td>\n",
       "      <td>03-10</td>\n",
       "      <td>3</td>\n",
       "      <td>11</td>\n",
       "    </tr>\n",
       "    <tr>\n",
       "      <th>1129</th>\n",
       "      <td>192</td>\n",
       "      <td>7800</td>\n",
       "      <td>2020-03-10</td>\n",
       "      <td>관악구</td>\n",
       "      <td>-</td>\n",
       "      <td>콜센터직원 접촉</td>\n",
       "      <td>서울의료원(퇴원)</td>\n",
       "      <td>03-10</td>\n",
       "      <td>3</td>\n",
       "      <td>11</td>\n",
       "    </tr>\n",
       "    <tr>\n",
       "      <th>1130</th>\n",
       "      <td>191</td>\n",
       "      <td>7647</td>\n",
       "      <td>2020-03-10</td>\n",
       "      <td>은평구</td>\n",
       "      <td>프랑스, 스페인</td>\n",
       "      <td>#6959 접촉(추정)</td>\n",
       "      <td>서북병원(퇴원)</td>\n",
       "      <td>03-10</td>\n",
       "      <td>3</td>\n",
       "      <td>11</td>\n",
       "    </tr>\n",
       "    <tr>\n",
       "      <th>1131</th>\n",
       "      <td>190</td>\n",
       "      <td>7588</td>\n",
       "      <td>2020-03-10</td>\n",
       "      <td>마포구</td>\n",
       "      <td>-</td>\n",
       "      <td>구로구 콜센터 관련</td>\n",
       "      <td>서남병원(퇴원)</td>\n",
       "      <td>03-10</td>\n",
       "      <td>3</td>\n",
       "      <td>11</td>\n",
       "    </tr>\n",
       "    <tr>\n",
       "      <th>1132</th>\n",
       "      <td>189</td>\n",
       "      <td>7536</td>\n",
       "      <td>2020-03-10</td>\n",
       "      <td>동대문구</td>\n",
       "      <td>-</td>\n",
       "      <td>동대문구 관련</td>\n",
       "      <td>국립중앙의료원(퇴원)</td>\n",
       "      <td>03-10</td>\n",
       "      <td>3</td>\n",
       "      <td>11</td>\n",
       "    </tr>\n",
       "    <tr>\n",
       "      <th>1133</th>\n",
       "      <td>188</td>\n",
       "      <td>7561</td>\n",
       "      <td>2020-03-10</td>\n",
       "      <td>동대문구</td>\n",
       "      <td>-</td>\n",
       "      <td>#7280 접촉(추정)</td>\n",
       "      <td>국립중앙의료원(퇴원)</td>\n",
       "      <td>03-10</td>\n",
       "      <td>3</td>\n",
       "      <td>11</td>\n",
       "    </tr>\n",
       "    <tr>\n",
       "      <th>1134</th>\n",
       "      <td>187</td>\n",
       "      <td>7637</td>\n",
       "      <td>2020-03-10</td>\n",
       "      <td>금천구</td>\n",
       "      <td>-</td>\n",
       "      <td>구로구 콜센터 관련</td>\n",
       "      <td>서남병원(퇴원)</td>\n",
       "      <td>03-10</td>\n",
       "      <td>3</td>\n",
       "      <td>11</td>\n",
       "    </tr>\n",
       "    <tr>\n",
       "      <th>1135</th>\n",
       "      <td>186</td>\n",
       "      <td>7630</td>\n",
       "      <td>2020-03-10</td>\n",
       "      <td>영등포구</td>\n",
       "      <td>-</td>\n",
       "      <td>구로구 콜센터 관련</td>\n",
       "      <td>서남병원(퇴원)</td>\n",
       "      <td>03-10</td>\n",
       "      <td>3</td>\n",
       "      <td>11</td>\n",
       "    </tr>\n",
       "    <tr>\n",
       "      <th>1136</th>\n",
       "      <td>185</td>\n",
       "      <td>7742</td>\n",
       "      <td>2020-03-10</td>\n",
       "      <td>마포구</td>\n",
       "      <td>-</td>\n",
       "      <td>구로구 콜센터 관련</td>\n",
       "      <td>서울의료원(퇴원)</td>\n",
       "      <td>03-10</td>\n",
       "      <td>3</td>\n",
       "      <td>11</td>\n",
       "    </tr>\n",
       "    <tr>\n",
       "      <th>1137</th>\n",
       "      <td>184</td>\n",
       "      <td>7823</td>\n",
       "      <td>2020-03-10</td>\n",
       "      <td>마포구</td>\n",
       "      <td>-</td>\n",
       "      <td>구로구 콜센터 관련</td>\n",
       "      <td>서울대학교병원(퇴원)</td>\n",
       "      <td>03-10</td>\n",
       "      <td>3</td>\n",
       "      <td>11</td>\n",
       "    </tr>\n",
       "    <tr>\n",
       "      <th>1138</th>\n",
       "      <td>183</td>\n",
       "      <td>7840</td>\n",
       "      <td>2020-03-10</td>\n",
       "      <td>마포구</td>\n",
       "      <td>-</td>\n",
       "      <td>구로구 콜센터 관련</td>\n",
       "      <td>서울의료원(퇴원)</td>\n",
       "      <td>03-10</td>\n",
       "      <td>3</td>\n",
       "      <td>11</td>\n",
       "    </tr>\n",
       "    <tr>\n",
       "      <th>1139</th>\n",
       "      <td>182</td>\n",
       "      <td>7611</td>\n",
       "      <td>2020-03-10</td>\n",
       "      <td>동작구</td>\n",
       "      <td>-</td>\n",
       "      <td>구로구 콜센터 관련</td>\n",
       "      <td>서남병원(퇴원)</td>\n",
       "      <td>03-10</td>\n",
       "      <td>3</td>\n",
       "      <td>11</td>\n",
       "    </tr>\n",
       "    <tr>\n",
       "      <th>1140</th>\n",
       "      <td>181</td>\n",
       "      <td>7528</td>\n",
       "      <td>2020-03-10</td>\n",
       "      <td>구로구</td>\n",
       "      <td>-</td>\n",
       "      <td>구로구 콜센터 관련</td>\n",
       "      <td>서남병원(퇴원)</td>\n",
       "      <td>03-10</td>\n",
       "      <td>3</td>\n",
       "      <td>11</td>\n",
       "    </tr>\n",
       "    <tr>\n",
       "      <th>1141</th>\n",
       "      <td>180</td>\n",
       "      <td>7520</td>\n",
       "      <td>2020-03-10</td>\n",
       "      <td>구로구</td>\n",
       "      <td>-</td>\n",
       "      <td>구로구 콜센터 관련</td>\n",
       "      <td>서남병원(퇴원)</td>\n",
       "      <td>03-10</td>\n",
       "      <td>3</td>\n",
       "      <td>11</td>\n",
       "    </tr>\n",
       "    <tr>\n",
       "      <th>1142</th>\n",
       "      <td>179</td>\n",
       "      <td>7584</td>\n",
       "      <td>2020-03-10</td>\n",
       "      <td>구로구</td>\n",
       "      <td>-</td>\n",
       "      <td>구로구 콜센터 관련</td>\n",
       "      <td>서울의료원(퇴원)</td>\n",
       "      <td>03-10</td>\n",
       "      <td>3</td>\n",
       "      <td>11</td>\n",
       "    </tr>\n",
       "    <tr>\n",
       "      <th>1143</th>\n",
       "      <td>178</td>\n",
       "      <td>7602</td>\n",
       "      <td>2020-03-10</td>\n",
       "      <td>동대문구</td>\n",
       "      <td>-</td>\n",
       "      <td>동대문구 관련</td>\n",
       "      <td>서울의료원(퇴원)</td>\n",
       "      <td>03-10</td>\n",
       "      <td>3</td>\n",
       "      <td>11</td>\n",
       "    </tr>\n",
       "    <tr>\n",
       "      <th>1144</th>\n",
       "      <td>177</td>\n",
       "      <td>7523</td>\n",
       "      <td>2020-03-10</td>\n",
       "      <td>구로구</td>\n",
       "      <td>-</td>\n",
       "      <td>구로구 콜센터 관련</td>\n",
       "      <td>서남병원(퇴원)</td>\n",
       "      <td>03-10</td>\n",
       "      <td>3</td>\n",
       "      <td>11</td>\n",
       "    </tr>\n",
       "    <tr>\n",
       "      <th>1145</th>\n",
       "      <td>176</td>\n",
       "      <td>7564</td>\n",
       "      <td>2020-03-10</td>\n",
       "      <td>영등포구</td>\n",
       "      <td>-</td>\n",
       "      <td>구로구 콜센터 관련</td>\n",
       "      <td>서남병원(퇴원)</td>\n",
       "      <td>03-10</td>\n",
       "      <td>3</td>\n",
       "      <td>11</td>\n",
       "    </tr>\n",
       "    <tr>\n",
       "      <th>1146</th>\n",
       "      <td>175</td>\n",
       "      <td>7695</td>\n",
       "      <td>2020-03-10</td>\n",
       "      <td>강서구</td>\n",
       "      <td>-</td>\n",
       "      <td>구로구 콜센터 관련</td>\n",
       "      <td>서북병원(퇴원)</td>\n",
       "      <td>03-10</td>\n",
       "      <td>3</td>\n",
       "      <td>11</td>\n",
       "    </tr>\n",
       "    <tr>\n",
       "      <th>1147</th>\n",
       "      <td>174</td>\n",
       "      <td>7571</td>\n",
       "      <td>2020-03-10</td>\n",
       "      <td>동대문구</td>\n",
       "      <td>-</td>\n",
       "      <td>동대문구 관련</td>\n",
       "      <td>서울의료원(퇴원)</td>\n",
       "      <td>03-10</td>\n",
       "      <td>3</td>\n",
       "      <td>11</td>\n",
       "    </tr>\n",
       "    <tr>\n",
       "      <th>1148</th>\n",
       "      <td>173</td>\n",
       "      <td>7731</td>\n",
       "      <td>2020-03-10</td>\n",
       "      <td>강서구</td>\n",
       "      <td>-</td>\n",
       "      <td>구로구 콜센터 관련</td>\n",
       "      <td>서남병원(퇴원)</td>\n",
       "      <td>03-10</td>\n",
       "      <td>3</td>\n",
       "      <td>11</td>\n",
       "    </tr>\n",
       "    <tr>\n",
       "      <th>1149</th>\n",
       "      <td>172</td>\n",
       "      <td>7642</td>\n",
       "      <td>2020-03-10</td>\n",
       "      <td>양천구</td>\n",
       "      <td>-</td>\n",
       "      <td>구로구 콜센터 관련</td>\n",
       "      <td>서울의료원(퇴원)</td>\n",
       "      <td>03-10</td>\n",
       "      <td>3</td>\n",
       "      <td>11</td>\n",
       "    </tr>\n",
       "    <tr>\n",
       "      <th>1150</th>\n",
       "      <td>171</td>\n",
       "      <td>7638</td>\n",
       "      <td>2020-03-10</td>\n",
       "      <td>양천구</td>\n",
       "      <td>-</td>\n",
       "      <td>구로구 콜센터 관련</td>\n",
       "      <td>서남병원(퇴원)</td>\n",
       "      <td>03-10</td>\n",
       "      <td>3</td>\n",
       "      <td>11</td>\n",
       "    </tr>\n",
       "    <tr>\n",
       "      <th>1151</th>\n",
       "      <td>170</td>\n",
       "      <td>7734</td>\n",
       "      <td>2020-03-10</td>\n",
       "      <td>관악구</td>\n",
       "      <td>-</td>\n",
       "      <td>구로구 콜센터 관련</td>\n",
       "      <td>서울의료원(퇴원)</td>\n",
       "      <td>03-10</td>\n",
       "      <td>3</td>\n",
       "      <td>11</td>\n",
       "    </tr>\n",
       "    <tr>\n",
       "      <th>1152</th>\n",
       "      <td>169</td>\n",
       "      <td>7712</td>\n",
       "      <td>2020-03-10</td>\n",
       "      <td>양천구</td>\n",
       "      <td>-</td>\n",
       "      <td>구로구 콜센터 관련</td>\n",
       "      <td>서울의료원(퇴원)</td>\n",
       "      <td>03-10</td>\n",
       "      <td>3</td>\n",
       "      <td>11</td>\n",
       "    </tr>\n",
       "    <tr>\n",
       "      <th>1153</th>\n",
       "      <td>168</td>\n",
       "      <td>7653</td>\n",
       "      <td>2020-03-10</td>\n",
       "      <td>영등포구</td>\n",
       "      <td>-</td>\n",
       "      <td>구로구 콜센터 관련</td>\n",
       "      <td>서남병원(퇴원)</td>\n",
       "      <td>03-10</td>\n",
       "      <td>3</td>\n",
       "      <td>11</td>\n",
       "    </tr>\n",
       "    <tr>\n",
       "      <th>1154</th>\n",
       "      <td>167</td>\n",
       "      <td>7622</td>\n",
       "      <td>2020-03-10</td>\n",
       "      <td>영등포구</td>\n",
       "      <td>-</td>\n",
       "      <td>구로구 콜센터 관련</td>\n",
       "      <td>서울의료원(퇴원)</td>\n",
       "      <td>03-10</td>\n",
       "      <td>3</td>\n",
       "      <td>11</td>\n",
       "    </tr>\n",
       "    <tr>\n",
       "      <th>1155</th>\n",
       "      <td>166</td>\n",
       "      <td>7685</td>\n",
       "      <td>2020-03-10</td>\n",
       "      <td>영등포구</td>\n",
       "      <td>-</td>\n",
       "      <td>구로구 콜센터 관련</td>\n",
       "      <td>서울의료원(퇴원)</td>\n",
       "      <td>03-10</td>\n",
       "      <td>3</td>\n",
       "      <td>11</td>\n",
       "    </tr>\n",
       "    <tr>\n",
       "      <th>1156</th>\n",
       "      <td>165</td>\n",
       "      <td>7624</td>\n",
       "      <td>2020-03-10</td>\n",
       "      <td>송파구</td>\n",
       "      <td>-</td>\n",
       "      <td>구로구 콜센터 관련</td>\n",
       "      <td>서울의료원(퇴원)</td>\n",
       "      <td>03-10</td>\n",
       "      <td>3</td>\n",
       "      <td>11</td>\n",
       "    </tr>\n",
       "    <tr>\n",
       "      <th>1157</th>\n",
       "      <td>164</td>\n",
       "      <td>7573</td>\n",
       "      <td>2020-03-10</td>\n",
       "      <td>은평구</td>\n",
       "      <td>-</td>\n",
       "      <td>#7500 접촉(추정)</td>\n",
       "      <td>서울의료원(퇴원)</td>\n",
       "      <td>03-10</td>\n",
       "      <td>3</td>\n",
       "      <td>11</td>\n",
       "    </tr>\n",
       "    <tr>\n",
       "      <th>1158</th>\n",
       "      <td>163</td>\n",
       "      <td>7723</td>\n",
       "      <td>2020-03-10</td>\n",
       "      <td>강서구</td>\n",
       "      <td>-</td>\n",
       "      <td>구로구 콜센터 관련</td>\n",
       "      <td>서남병원(퇴원)</td>\n",
       "      <td>03-10</td>\n",
       "      <td>3</td>\n",
       "      <td>11</td>\n",
       "    </tr>\n",
       "    <tr>\n",
       "      <th>1159</th>\n",
       "      <td>162</td>\n",
       "      <td>7727</td>\n",
       "      <td>2020-03-10</td>\n",
       "      <td>강서구</td>\n",
       "      <td>-</td>\n",
       "      <td>구로구 콜센터 관련</td>\n",
       "      <td>서남병원(퇴원)</td>\n",
       "      <td>03-10</td>\n",
       "      <td>3</td>\n",
       "      <td>11</td>\n",
       "    </tr>\n",
       "    <tr>\n",
       "      <th>1160</th>\n",
       "      <td>161</td>\n",
       "      <td>7603</td>\n",
       "      <td>2020-03-10</td>\n",
       "      <td>관악구</td>\n",
       "      <td>-</td>\n",
       "      <td>구로구 콜센터 관련</td>\n",
       "      <td>보라매병원(퇴원)</td>\n",
       "      <td>03-10</td>\n",
       "      <td>3</td>\n",
       "      <td>11</td>\n",
       "    </tr>\n",
       "    <tr>\n",
       "      <th>1161</th>\n",
       "      <td>160</td>\n",
       "      <td>7644</td>\n",
       "      <td>2020-03-10</td>\n",
       "      <td>관악구</td>\n",
       "      <td>-</td>\n",
       "      <td>구로구 콜센터 관련</td>\n",
       "      <td>보라매병원(퇴원)</td>\n",
       "      <td>03-10</td>\n",
       "      <td>3</td>\n",
       "      <td>11</td>\n",
       "    </tr>\n",
       "    <tr>\n",
       "      <th>1162</th>\n",
       "      <td>159</td>\n",
       "      <td>7666</td>\n",
       "      <td>2020-03-10</td>\n",
       "      <td>관악구</td>\n",
       "      <td>-</td>\n",
       "      <td>구로구 콜센터 관련</td>\n",
       "      <td>서울의료원(퇴원)</td>\n",
       "      <td>03-10</td>\n",
       "      <td>3</td>\n",
       "      <td>11</td>\n",
       "    </tr>\n",
       "    <tr>\n",
       "      <th>1163</th>\n",
       "      <td>158</td>\n",
       "      <td>7721</td>\n",
       "      <td>2020-03-10</td>\n",
       "      <td>동작구</td>\n",
       "      <td>-</td>\n",
       "      <td>구로구 콜센터 관련</td>\n",
       "      <td>서남병원(퇴원)</td>\n",
       "      <td>03-10</td>\n",
       "      <td>3</td>\n",
       "      <td>11</td>\n",
       "    </tr>\n",
       "    <tr>\n",
       "      <th>1164</th>\n",
       "      <td>157</td>\n",
       "      <td>7525</td>\n",
       "      <td>2020-03-10</td>\n",
       "      <td>동작구</td>\n",
       "      <td>-</td>\n",
       "      <td>구로구 콜센터 관련</td>\n",
       "      <td>서남병원(퇴원)</td>\n",
       "      <td>03-10</td>\n",
       "      <td>3</td>\n",
       "      <td>11</td>\n",
       "    </tr>\n",
       "  </tbody>\n",
       "</table>\n",
       "</div>"
      ],
      "text/plain": [
       "       연번    환자        확진일   거주지       여행력           접촉력         조치사항   확진월일  \\\n",
       "1119  202  7567 2020-03-10   노원구         -      콜센터직원 접촉    서울의료원(퇴원)  03-10   \n",
       "1120  201  7711 2020-03-10   노원구         -      콜센터직원 접촉    서울의료원(퇴원)  03-10   \n",
       "1121  200  7555 2020-03-10   구로구         -    구로구 콜센터 관련     서남병원(퇴원)  03-10   \n",
       "1122  199  7725 2020-03-10   양천구         -    구로구 콜센터 관련     서남병원(퇴원)  03-10   \n",
       "1123  198  7539 2020-03-10   양천구         -      콜센터직원 접촉     서남병원(퇴원)  03-10   \n",
       "1124  197  7524 2020-03-10   양천구         -      콜센터직원 접촉    서울의료원(퇴원)  03-10   \n",
       "1125  196  7619 2020-03-10   양천구         -      콜센터직원 접촉    서울의료원(퇴원)  03-10   \n",
       "1126  195  7795 2020-03-10   관악구         -    구로구 콜센터 관련     서남병원(퇴원)  03-10   \n",
       "1127  194  7787 2020-03-10   관악구         -      콜센터직원 접촉     서남병원(퇴원)  03-10   \n",
       "1128  193  7826 2020-03-10   관악구         -      콜센터직원 접촉     서남병원(퇴원)  03-10   \n",
       "1129  192  7800 2020-03-10   관악구         -      콜센터직원 접촉    서울의료원(퇴원)  03-10   \n",
       "1130  191  7647 2020-03-10   은평구  프랑스, 스페인  #6959 접촉(추정)     서북병원(퇴원)  03-10   \n",
       "1131  190  7588 2020-03-10   마포구         -    구로구 콜센터 관련     서남병원(퇴원)  03-10   \n",
       "1132  189  7536 2020-03-10  동대문구         -       동대문구 관련  국립중앙의료원(퇴원)  03-10   \n",
       "1133  188  7561 2020-03-10  동대문구         -  #7280 접촉(추정)  국립중앙의료원(퇴원)  03-10   \n",
       "1134  187  7637 2020-03-10   금천구         -    구로구 콜센터 관련     서남병원(퇴원)  03-10   \n",
       "1135  186  7630 2020-03-10  영등포구         -    구로구 콜센터 관련     서남병원(퇴원)  03-10   \n",
       "1136  185  7742 2020-03-10   마포구         -    구로구 콜센터 관련    서울의료원(퇴원)  03-10   \n",
       "1137  184  7823 2020-03-10   마포구         -    구로구 콜센터 관련  서울대학교병원(퇴원)  03-10   \n",
       "1138  183  7840 2020-03-10   마포구         -    구로구 콜센터 관련    서울의료원(퇴원)  03-10   \n",
       "1139  182  7611 2020-03-10   동작구         -    구로구 콜센터 관련     서남병원(퇴원)  03-10   \n",
       "1140  181  7528 2020-03-10   구로구         -    구로구 콜센터 관련     서남병원(퇴원)  03-10   \n",
       "1141  180  7520 2020-03-10   구로구         -    구로구 콜센터 관련     서남병원(퇴원)  03-10   \n",
       "1142  179  7584 2020-03-10   구로구         -    구로구 콜센터 관련    서울의료원(퇴원)  03-10   \n",
       "1143  178  7602 2020-03-10  동대문구         -       동대문구 관련    서울의료원(퇴원)  03-10   \n",
       "1144  177  7523 2020-03-10   구로구         -    구로구 콜센터 관련     서남병원(퇴원)  03-10   \n",
       "1145  176  7564 2020-03-10  영등포구         -    구로구 콜센터 관련     서남병원(퇴원)  03-10   \n",
       "1146  175  7695 2020-03-10   강서구         -    구로구 콜센터 관련     서북병원(퇴원)  03-10   \n",
       "1147  174  7571 2020-03-10  동대문구         -       동대문구 관련    서울의료원(퇴원)  03-10   \n",
       "1148  173  7731 2020-03-10   강서구         -    구로구 콜센터 관련     서남병원(퇴원)  03-10   \n",
       "1149  172  7642 2020-03-10   양천구         -    구로구 콜센터 관련    서울의료원(퇴원)  03-10   \n",
       "1150  171  7638 2020-03-10   양천구         -    구로구 콜센터 관련     서남병원(퇴원)  03-10   \n",
       "1151  170  7734 2020-03-10   관악구         -    구로구 콜센터 관련    서울의료원(퇴원)  03-10   \n",
       "1152  169  7712 2020-03-10   양천구         -    구로구 콜센터 관련    서울의료원(퇴원)  03-10   \n",
       "1153  168  7653 2020-03-10  영등포구         -    구로구 콜센터 관련     서남병원(퇴원)  03-10   \n",
       "1154  167  7622 2020-03-10  영등포구         -    구로구 콜센터 관련    서울의료원(퇴원)  03-10   \n",
       "1155  166  7685 2020-03-10  영등포구         -    구로구 콜센터 관련    서울의료원(퇴원)  03-10   \n",
       "1156  165  7624 2020-03-10   송파구         -    구로구 콜센터 관련    서울의료원(퇴원)  03-10   \n",
       "1157  164  7573 2020-03-10   은평구         -  #7500 접촉(추정)    서울의료원(퇴원)  03-10   \n",
       "1158  163  7723 2020-03-10   강서구         -    구로구 콜센터 관련     서남병원(퇴원)  03-10   \n",
       "1159  162  7727 2020-03-10   강서구         -    구로구 콜센터 관련     서남병원(퇴원)  03-10   \n",
       "1160  161  7603 2020-03-10   관악구         -    구로구 콜센터 관련    보라매병원(퇴원)  03-10   \n",
       "1161  160  7644 2020-03-10   관악구         -    구로구 콜센터 관련    보라매병원(퇴원)  03-10   \n",
       "1162  159  7666 2020-03-10   관악구         -    구로구 콜센터 관련    서울의료원(퇴원)  03-10   \n",
       "1163  158  7721 2020-03-10   동작구         -    구로구 콜센터 관련     서남병원(퇴원)  03-10   \n",
       "1164  157  7525 2020-03-10   동작구         -    구로구 콜센터 관련     서남병원(퇴원)  03-10   \n",
       "\n",
       "      확진월  확진주  \n",
       "1119    3   11  \n",
       "1120    3   11  \n",
       "1121    3   11  \n",
       "1122    3   11  \n",
       "1123    3   11  \n",
       "1124    3   11  \n",
       "1125    3   11  \n",
       "1126    3   11  \n",
       "1127    3   11  \n",
       "1128    3   11  \n",
       "1129    3   11  \n",
       "1130    3   11  \n",
       "1131    3   11  \n",
       "1132    3   11  \n",
       "1133    3   11  \n",
       "1134    3   11  \n",
       "1135    3   11  \n",
       "1136    3   11  \n",
       "1137    3   11  \n",
       "1138    3   11  \n",
       "1139    3   11  \n",
       "1140    3   11  \n",
       "1141    3   11  \n",
       "1142    3   11  \n",
       "1143    3   11  \n",
       "1144    3   11  \n",
       "1145    3   11  \n",
       "1146    3   11  \n",
       "1147    3   11  \n",
       "1148    3   11  \n",
       "1149    3   11  \n",
       "1150    3   11  \n",
       "1151    3   11  \n",
       "1152    3   11  \n",
       "1153    3   11  \n",
       "1154    3   11  \n",
       "1155    3   11  \n",
       "1156    3   11  \n",
       "1157    3   11  \n",
       "1158    3   11  \n",
       "1159    3   11  \n",
       "1160    3   11  \n",
       "1161    3   11  \n",
       "1162    3   11  \n",
       "1163    3   11  \n",
       "1164    3   11  "
      ]
     },
     "execution_count": 29,
     "metadata": {},
     "output_type": "execute_result"
    }
   ],
   "source": [
    "# 확진자가 가장 많았던 날의 발생이력\n",
    "data[data['확진월일'] == '03-10']"
   ]
  },
  {
   "cell_type": "markdown",
   "metadata": {},
   "source": [
    "### 모든 날짜 생성\n",
    "- 확진자가 없는 날의 데이터도 만들어 주기"
   ]
  },
  {
   "cell_type": "code",
   "execution_count": 104,
   "metadata": {
    "ExecuteTime": {
     "end_time": "2021-09-13T14:32:35.318157Z",
     "start_time": "2021-09-13T14:32:35.310539Z"
    }
   },
   "outputs": [],
   "source": [
    "first_day = data.iloc[-1,2]\n",
    "last_day = data.iloc[0, 2]"
   ]
  },
  {
   "cell_type": "code",
   "execution_count": 105,
   "metadata": {
    "ExecuteTime": {
     "end_time": "2021-09-13T14:32:35.573307Z",
     "start_time": "2021-09-13T14:32:35.551151Z"
    }
   },
   "outputs": [
    {
     "data": {
      "text/html": [
       "<div>\n",
       "<style scoped>\n",
       "    .dataframe tbody tr th:only-of-type {\n",
       "        vertical-align: middle;\n",
       "    }\n",
       "\n",
       "    .dataframe tbody tr th {\n",
       "        vertical-align: top;\n",
       "    }\n",
       "\n",
       "    .dataframe thead th {\n",
       "        text-align: right;\n",
       "    }\n",
       "</style>\n",
       "<table border=\"1\" class=\"dataframe\">\n",
       "  <thead>\n",
       "    <tr style=\"text-align: right;\">\n",
       "      <th></th>\n",
       "      <th>확진일자</th>\n",
       "    </tr>\n",
       "  </thead>\n",
       "  <tbody>\n",
       "    <tr>\n",
       "      <th>0</th>\n",
       "      <td>2020-01-24</td>\n",
       "    </tr>\n",
       "    <tr>\n",
       "      <th>1</th>\n",
       "      <td>2020-01-25</td>\n",
       "    </tr>\n",
       "    <tr>\n",
       "      <th>2</th>\n",
       "      <td>2020-01-26</td>\n",
       "    </tr>\n",
       "    <tr>\n",
       "      <th>3</th>\n",
       "      <td>2020-01-27</td>\n",
       "    </tr>\n",
       "    <tr>\n",
       "      <th>4</th>\n",
       "      <td>2020-01-28</td>\n",
       "    </tr>\n",
       "  </tbody>\n",
       "</table>\n",
       "</div>"
      ],
      "text/plain": [
       "        확진일자\n",
       "0 2020-01-24\n",
       "1 2020-01-25\n",
       "2 2020-01-26\n",
       "3 2020-01-27\n",
       "4 2020-01-28"
      ]
     },
     "execution_count": 105,
     "metadata": {},
     "output_type": "execute_result"
    }
   ],
   "source": [
    "# 첫 날부터 마지막날까지 날짜 생성\n",
    "days = pd.date_range(first_day, last_day)\n",
    "\n",
    "# 데이터프레임으로 변경\n",
    "df_days = pd.DataFrame({\"확진일자\" : days})\n",
    "df_days.head()"
   ]
  },
  {
   "cell_type": "code",
   "execution_count": 106,
   "metadata": {
    "ExecuteTime": {
     "end_time": "2021-09-13T14:32:35.782447Z",
     "start_time": "2021-09-13T14:32:35.752259Z"
    }
   },
   "outputs": [
    {
     "data": {
      "text/html": [
       "<div>\n",
       "<style scoped>\n",
       "    .dataframe tbody tr th:only-of-type {\n",
       "        vertical-align: middle;\n",
       "    }\n",
       "\n",
       "    .dataframe tbody tr th {\n",
       "        vertical-align: top;\n",
       "    }\n",
       "\n",
       "    .dataframe thead th {\n",
       "        text-align: right;\n",
       "    }\n",
       "</style>\n",
       "<table border=\"1\" class=\"dataframe\">\n",
       "  <thead>\n",
       "    <tr style=\"text-align: right;\">\n",
       "      <th></th>\n",
       "      <th>확진수</th>\n",
       "    </tr>\n",
       "  </thead>\n",
       "  <tbody>\n",
       "    <tr>\n",
       "      <th>2020-03-10</th>\n",
       "      <td>46</td>\n",
       "    </tr>\n",
       "    <tr>\n",
       "      <th>2020-06-12</th>\n",
       "      <td>30</td>\n",
       "    </tr>\n",
       "    <tr>\n",
       "      <th>2020-06-06</th>\n",
       "      <td>29</td>\n",
       "    </tr>\n",
       "    <tr>\n",
       "      <th>2020-06-05</th>\n",
       "      <td>27</td>\n",
       "    </tr>\n",
       "    <tr>\n",
       "      <th>2020-03-09</th>\n",
       "      <td>26</td>\n",
       "    </tr>\n",
       "  </tbody>\n",
       "</table>\n",
       "</div>"
      ],
      "text/plain": [
       "            확진수\n",
       "2020-03-10   46\n",
       "2020-06-12   30\n",
       "2020-06-06   29\n",
       "2020-06-05   27\n",
       "2020-03-09   26"
      ]
     },
     "execution_count": 106,
     "metadata": {},
     "output_type": "execute_result"
    }
   ],
   "source": [
    "daily_case = data[\"확진일\"].value_counts()\n",
    "df_daily_case = pd.DataFrame(daily_case)\n",
    "df_daily_case.columns = [\"확진수\"]\n",
    "df_daily_case.head()"
   ]
  },
  {
   "cell_type": "code",
   "execution_count": 107,
   "metadata": {
    "ExecuteTime": {
     "end_time": "2021-09-13T14:32:35.818465Z",
     "start_time": "2021-09-13T14:32:35.787493Z"
    }
   },
   "outputs": [
    {
     "data": {
      "text/html": [
       "<div>\n",
       "<style scoped>\n",
       "    .dataframe tbody tr th:only-of-type {\n",
       "        vertical-align: middle;\n",
       "    }\n",
       "\n",
       "    .dataframe tbody tr th {\n",
       "        vertical-align: top;\n",
       "    }\n",
       "\n",
       "    .dataframe thead th {\n",
       "        text-align: right;\n",
       "    }\n",
       "</style>\n",
       "<table border=\"1\" class=\"dataframe\">\n",
       "  <thead>\n",
       "    <tr style=\"text-align: right;\">\n",
       "      <th></th>\n",
       "      <th>확진일자</th>\n",
       "      <th>확진수</th>\n",
       "    </tr>\n",
       "  </thead>\n",
       "  <tbody>\n",
       "    <tr>\n",
       "      <th>0</th>\n",
       "      <td>2020-01-24</td>\n",
       "      <td>1.0</td>\n",
       "    </tr>\n",
       "    <tr>\n",
       "      <th>1</th>\n",
       "      <td>2020-01-25</td>\n",
       "      <td>NaN</td>\n",
       "    </tr>\n",
       "    <tr>\n",
       "      <th>2</th>\n",
       "      <td>2020-01-26</td>\n",
       "      <td>NaN</td>\n",
       "    </tr>\n",
       "    <tr>\n",
       "      <th>3</th>\n",
       "      <td>2020-01-27</td>\n",
       "      <td>NaN</td>\n",
       "    </tr>\n",
       "    <tr>\n",
       "      <th>4</th>\n",
       "      <td>2020-01-28</td>\n",
       "      <td>NaN</td>\n",
       "    </tr>\n",
       "  </tbody>\n",
       "</table>\n",
       "</div>"
      ],
      "text/plain": [
       "        확진일자  확진수\n",
       "0 2020-01-24  1.0\n",
       "1 2020-01-25  NaN\n",
       "2 2020-01-26  NaN\n",
       "3 2020-01-27  NaN\n",
       "4 2020-01-28  NaN"
      ]
     },
     "execution_count": 107,
     "metadata": {},
     "output_type": "execute_result"
    }
   ],
   "source": [
    "all_day = df_days.merge(df_daily_case,\n",
    "              left_on = \"확진일자\",\n",
    "              right_on = df_daily_case.index, \n",
    "              how = 'left')\n",
    "\n",
    "all_day.head()"
   ]
  },
  {
   "cell_type": "markdown",
   "metadata": {},
   "source": [
    "### 확진월, 요일"
   ]
  },
  {
   "cell_type": "code",
   "execution_count": 109,
   "metadata": {
    "ExecuteTime": {
     "end_time": "2021-09-13T14:32:42.858147Z",
     "start_time": "2021-09-13T14:32:42.824147Z"
    },
    "scrolled": true
   },
   "outputs": [
    {
     "data": {
      "text/html": [
       "<div>\n",
       "<style scoped>\n",
       "    .dataframe tbody tr th:only-of-type {\n",
       "        vertical-align: middle;\n",
       "    }\n",
       "\n",
       "    .dataframe tbody tr th {\n",
       "        vertical-align: top;\n",
       "    }\n",
       "\n",
       "    .dataframe thead th {\n",
       "        text-align: right;\n",
       "    }\n",
       "</style>\n",
       "<table border=\"1\" class=\"dataframe\">\n",
       "  <thead>\n",
       "    <tr style=\"text-align: right;\">\n",
       "      <th></th>\n",
       "      <th>확진일자</th>\n",
       "      <th>확진수</th>\n",
       "      <th>확진월</th>\n",
       "      <th>확진요일</th>\n",
       "    </tr>\n",
       "  </thead>\n",
       "  <tbody>\n",
       "    <tr>\n",
       "      <th>0</th>\n",
       "      <td>2020-01-24</td>\n",
       "      <td>1.0</td>\n",
       "      <td>1</td>\n",
       "      <td>4</td>\n",
       "    </tr>\n",
       "    <tr>\n",
       "      <th>1</th>\n",
       "      <td>2020-01-25</td>\n",
       "      <td>NaN</td>\n",
       "      <td>1</td>\n",
       "      <td>5</td>\n",
       "    </tr>\n",
       "    <tr>\n",
       "      <th>2</th>\n",
       "      <td>2020-01-26</td>\n",
       "      <td>NaN</td>\n",
       "      <td>1</td>\n",
       "      <td>6</td>\n",
       "    </tr>\n",
       "    <tr>\n",
       "      <th>3</th>\n",
       "      <td>2020-01-27</td>\n",
       "      <td>NaN</td>\n",
       "      <td>1</td>\n",
       "      <td>0</td>\n",
       "    </tr>\n",
       "    <tr>\n",
       "      <th>4</th>\n",
       "      <td>2020-01-28</td>\n",
       "      <td>NaN</td>\n",
       "      <td>1</td>\n",
       "      <td>1</td>\n",
       "    </tr>\n",
       "    <tr>\n",
       "      <th>...</th>\n",
       "      <td>...</td>\n",
       "      <td>...</td>\n",
       "      <td>...</td>\n",
       "      <td>...</td>\n",
       "    </tr>\n",
       "    <tr>\n",
       "      <th>154</th>\n",
       "      <td>2020-06-26</td>\n",
       "      <td>17.0</td>\n",
       "      <td>6</td>\n",
       "      <td>4</td>\n",
       "    </tr>\n",
       "    <tr>\n",
       "      <th>155</th>\n",
       "      <td>2020-06-27</td>\n",
       "      <td>14.0</td>\n",
       "      <td>6</td>\n",
       "      <td>5</td>\n",
       "    </tr>\n",
       "    <tr>\n",
       "      <th>156</th>\n",
       "      <td>2020-06-28</td>\n",
       "      <td>7.0</td>\n",
       "      <td>6</td>\n",
       "      <td>6</td>\n",
       "    </tr>\n",
       "    <tr>\n",
       "      <th>157</th>\n",
       "      <td>2020-06-29</td>\n",
       "      <td>8.0</td>\n",
       "      <td>6</td>\n",
       "      <td>0</td>\n",
       "    </tr>\n",
       "    <tr>\n",
       "      <th>158</th>\n",
       "      <td>2020-06-30</td>\n",
       "      <td>8.0</td>\n",
       "      <td>6</td>\n",
       "      <td>1</td>\n",
       "    </tr>\n",
       "  </tbody>\n",
       "</table>\n",
       "<p>159 rows × 4 columns</p>\n",
       "</div>"
      ],
      "text/plain": [
       "          확진일자   확진수  확진월  확진요일\n",
       "0   2020-01-24   1.0    1     4\n",
       "1   2020-01-25   NaN    1     5\n",
       "2   2020-01-26   NaN    1     6\n",
       "3   2020-01-27   NaN    1     0\n",
       "4   2020-01-28   NaN    1     1\n",
       "..         ...   ...  ...   ...\n",
       "154 2020-06-26  17.0    6     4\n",
       "155 2020-06-27  14.0    6     5\n",
       "156 2020-06-28   7.0    6     6\n",
       "157 2020-06-29   8.0    6     0\n",
       "158 2020-06-30   8.0    6     1\n",
       "\n",
       "[159 rows x 4 columns]"
      ]
     },
     "execution_count": 109,
     "metadata": {},
     "output_type": "execute_result"
    }
   ],
   "source": [
    "all_day['확진월'] = all_day['확진일자'].dt.month\n",
    "all_day['확진요일'] = all_day['확진일자'].dt.dayofweek\n",
    "all_day"
   ]
  },
  {
   "cell_type": "code",
   "execution_count": 126,
   "metadata": {
    "ExecuteTime": {
     "end_time": "2021-09-13T14:41:28.456168Z",
     "start_time": "2021-09-13T14:41:28.422384Z"
    }
   },
   "outputs": [
    {
     "data": {
      "text/html": [
       "<div>\n",
       "<style scoped>\n",
       "    .dataframe tbody tr th:only-of-type {\n",
       "        vertical-align: middle;\n",
       "    }\n",
       "\n",
       "    .dataframe tbody tr th {\n",
       "        vertical-align: top;\n",
       "    }\n",
       "\n",
       "    .dataframe thead th {\n",
       "        text-align: right;\n",
       "    }\n",
       "</style>\n",
       "<table border=\"1\" class=\"dataframe\">\n",
       "  <thead>\n",
       "    <tr style=\"text-align: right;\">\n",
       "      <th></th>\n",
       "      <th>월</th>\n",
       "      <th>화</th>\n",
       "      <th>수</th>\n",
       "      <th>목</th>\n",
       "      <th>금</th>\n",
       "      <th>토</th>\n",
       "      <th>일</th>\n",
       "    </tr>\n",
       "    <tr>\n",
       "      <th>확진월</th>\n",
       "      <th></th>\n",
       "      <th></th>\n",
       "      <th></th>\n",
       "      <th></th>\n",
       "      <th></th>\n",
       "      <th></th>\n",
       "      <th></th>\n",
       "    </tr>\n",
       "  </thead>\n",
       "  <tbody>\n",
       "    <tr>\n",
       "      <th>1</th>\n",
       "      <td>0</td>\n",
       "      <td>0</td>\n",
       "      <td>0</td>\n",
       "      <td>3</td>\n",
       "      <td>4</td>\n",
       "      <td>0</td>\n",
       "      <td>0</td>\n",
       "    </tr>\n",
       "    <tr>\n",
       "      <th>2</th>\n",
       "      <td>4</td>\n",
       "      <td>16</td>\n",
       "      <td>14</td>\n",
       "      <td>19</td>\n",
       "      <td>11</td>\n",
       "      <td>9</td>\n",
       "      <td>7</td>\n",
       "    </tr>\n",
       "    <tr>\n",
       "      <th>3</th>\n",
       "      <td>69</td>\n",
       "      <td>89</td>\n",
       "      <td>46</td>\n",
       "      <td>44</td>\n",
       "      <td>48</td>\n",
       "      <td>45</td>\n",
       "      <td>50</td>\n",
       "    </tr>\n",
       "    <tr>\n",
       "      <th>4</th>\n",
       "      <td>16</td>\n",
       "      <td>17</td>\n",
       "      <td>28</td>\n",
       "      <td>27</td>\n",
       "      <td>26</td>\n",
       "      <td>22</td>\n",
       "      <td>20</td>\n",
       "    </tr>\n",
       "    <tr>\n",
       "      <th>5</th>\n",
       "      <td>27</td>\n",
       "      <td>36</td>\n",
       "      <td>34</td>\n",
       "      <td>34</td>\n",
       "      <td>32</td>\n",
       "      <td>36</td>\n",
       "      <td>29</td>\n",
       "    </tr>\n",
       "    <tr>\n",
       "      <th>6</th>\n",
       "      <td>55</td>\n",
       "      <td>66</td>\n",
       "      <td>66</td>\n",
       "      <td>75</td>\n",
       "      <td>90</td>\n",
       "      <td>70</td>\n",
       "      <td>37</td>\n",
       "    </tr>\n",
       "  </tbody>\n",
       "</table>\n",
       "</div>"
      ],
      "text/plain": [
       "      월   화   수   목   금   토   일\n",
       "확진월                            \n",
       "1     0   0   0   3   4   0   0\n",
       "2     4  16  14  19  11   9   7\n",
       "3    69  89  46  44  48  45  50\n",
       "4    16  17  28  27  26  22  20\n",
       "5    27  36  34  34  32  36  29\n",
       "6    55  66  66  75  90  70  37"
      ]
     },
     "execution_count": 126,
     "metadata": {},
     "output_type": "execute_result"
    }
   ],
   "source": [
    "all_day_week = all_day.groupby(['확진월', '확진요일'])['확진수'].sum()\n",
    "all_day_week = all_day_week.unstack().astype(int)\n",
    "\n",
    "day = \"월 화 수 목 금 토 일\"\n",
    "day = day.split()\n",
    "all_day_week.columns = day\n",
    "all_day_week"
   ]
  },
  {
   "cell_type": "code",
   "execution_count": 127,
   "metadata": {
    "ExecuteTime": {
     "end_time": "2021-09-13T14:42:14.076740Z",
     "start_time": "2021-09-13T14:42:13.972763Z"
    }
   },
   "outputs": [
    {
     "data": {
      "text/html": [
       "<style  type=\"text/css\" >\n",
       "    #T_c8f7875a_14a0_11ec_b692_00155d71f8dfrow0_col0 {\n",
       "            background-color:  #f7fbff;\n",
       "            color:  #000000;\n",
       "        }    #T_c8f7875a_14a0_11ec_b692_00155d71f8dfrow0_col1 {\n",
       "            background-color:  #f7fbff;\n",
       "            color:  #000000;\n",
       "        }    #T_c8f7875a_14a0_11ec_b692_00155d71f8dfrow0_col2 {\n",
       "            background-color:  #f7fbff;\n",
       "            color:  #000000;\n",
       "        }    #T_c8f7875a_14a0_11ec_b692_00155d71f8dfrow0_col3 {\n",
       "            background-color:  #f7fbff;\n",
       "            color:  #000000;\n",
       "        }    #T_c8f7875a_14a0_11ec_b692_00155d71f8dfrow0_col4 {\n",
       "            background-color:  #f7fbff;\n",
       "            color:  #000000;\n",
       "        }    #T_c8f7875a_14a0_11ec_b692_00155d71f8dfrow0_col5 {\n",
       "            background-color:  #f7fbff;\n",
       "            color:  #000000;\n",
       "        }    #T_c8f7875a_14a0_11ec_b692_00155d71f8dfrow0_col6 {\n",
       "            background-color:  #f7fbff;\n",
       "            color:  #000000;\n",
       "        }    #T_c8f7875a_14a0_11ec_b692_00155d71f8dfrow1_col0 {\n",
       "            background-color:  #ecf4fb;\n",
       "            color:  #000000;\n",
       "        }    #T_c8f7875a_14a0_11ec_b692_00155d71f8dfrow1_col1 {\n",
       "            background-color:  #d3e4f3;\n",
       "            color:  #000000;\n",
       "        }    #T_c8f7875a_14a0_11ec_b692_00155d71f8dfrow1_col2 {\n",
       "            background-color:  #cde0f1;\n",
       "            color:  #000000;\n",
       "        }    #T_c8f7875a_14a0_11ec_b692_00155d71f8dfrow1_col3 {\n",
       "            background-color:  #ccdff1;\n",
       "            color:  #000000;\n",
       "        }    #T_c8f7875a_14a0_11ec_b692_00155d71f8dfrow1_col4 {\n",
       "            background-color:  #e7f1fa;\n",
       "            color:  #000000;\n",
       "        }    #T_c8f7875a_14a0_11ec_b692_00155d71f8dfrow1_col5 {\n",
       "            background-color:  #deebf7;\n",
       "            color:  #000000;\n",
       "        }    #T_c8f7875a_14a0_11ec_b692_00155d71f8dfrow1_col6 {\n",
       "            background-color:  #dce9f6;\n",
       "            color:  #000000;\n",
       "        }    #T_c8f7875a_14a0_11ec_b692_00155d71f8dfrow2_col0 {\n",
       "            background-color:  #08306b;\n",
       "            color:  #f1f1f1;\n",
       "        }    #T_c8f7875a_14a0_11ec_b692_00155d71f8dfrow2_col1 {\n",
       "            background-color:  #08306b;\n",
       "            color:  #f1f1f1;\n",
       "        }    #T_c8f7875a_14a0_11ec_b692_00155d71f8dfrow2_col2 {\n",
       "            background-color:  #2f7fbc;\n",
       "            color:  #000000;\n",
       "        }    #T_c8f7875a_14a0_11ec_b692_00155d71f8dfrow2_col3 {\n",
       "            background-color:  #549fcd;\n",
       "            color:  #000000;\n",
       "        }    #T_c8f7875a_14a0_11ec_b692_00155d71f8dfrow2_col4 {\n",
       "            background-color:  #68acd5;\n",
       "            color:  #000000;\n",
       "        }    #T_c8f7875a_14a0_11ec_b692_00155d71f8dfrow2_col5 {\n",
       "            background-color:  #3d8dc4;\n",
       "            color:  #000000;\n",
       "        }    #T_c8f7875a_14a0_11ec_b692_00155d71f8dfrow2_col6 {\n",
       "            background-color:  #08306b;\n",
       "            color:  #f1f1f1;\n",
       "        }    #T_c8f7875a_14a0_11ec_b692_00155d71f8dfrow3_col0 {\n",
       "            background-color:  #caddf0;\n",
       "            color:  #000000;\n",
       "        }    #T_c8f7875a_14a0_11ec_b692_00155d71f8dfrow3_col1 {\n",
       "            background-color:  #d2e3f3;\n",
       "            color:  #000000;\n",
       "        }    #T_c8f7875a_14a0_11ec_b692_00155d71f8dfrow3_col2 {\n",
       "            background-color:  #8abfdd;\n",
       "            color:  #000000;\n",
       "        }    #T_c8f7875a_14a0_11ec_b692_00155d71f8dfrow3_col3 {\n",
       "            background-color:  #abd0e6;\n",
       "            color:  #000000;\n",
       "        }    #T_c8f7875a_14a0_11ec_b692_00155d71f8dfrow3_col4 {\n",
       "            background-color:  #c4daee;\n",
       "            color:  #000000;\n",
       "        }    #T_c8f7875a_14a0_11ec_b692_00155d71f8dfrow3_col5 {\n",
       "            background-color:  #b2d2e8;\n",
       "            color:  #000000;\n",
       "        }    #T_c8f7875a_14a0_11ec_b692_00155d71f8dfrow3_col6 {\n",
       "            background-color:  #94c4df;\n",
       "            color:  #000000;\n",
       "        }    #T_c8f7875a_14a0_11ec_b692_00155d71f8dfrow4_col0 {\n",
       "            background-color:  #97c6df;\n",
       "            color:  #000000;\n",
       "        }    #T_c8f7875a_14a0_11ec_b692_00155d71f8dfrow4_col1 {\n",
       "            background-color:  #92c4de;\n",
       "            color:  #000000;\n",
       "        }    #T_c8f7875a_14a0_11ec_b692_00155d71f8dfrow4_col2 {\n",
       "            background-color:  #66abd4;\n",
       "            color:  #000000;\n",
       "        }    #T_c8f7875a_14a0_11ec_b692_00155d71f8dfrow4_col3 {\n",
       "            background-color:  #87bddc;\n",
       "            color:  #000000;\n",
       "        }    #T_c8f7875a_14a0_11ec_b692_00155d71f8dfrow4_col4 {\n",
       "            background-color:  #aed1e7;\n",
       "            color:  #000000;\n",
       "        }    #T_c8f7875a_14a0_11ec_b692_00155d71f8dfrow4_col5 {\n",
       "            background-color:  #66abd4;\n",
       "            color:  #000000;\n",
       "        }    #T_c8f7875a_14a0_11ec_b692_00155d71f8dfrow4_col6 {\n",
       "            background-color:  #519ccc;\n",
       "            color:  #000000;\n",
       "        }    #T_c8f7875a_14a0_11ec_b692_00155d71f8dfrow5_col0 {\n",
       "            background-color:  #1764ab;\n",
       "            color:  #f1f1f1;\n",
       "        }    #T_c8f7875a_14a0_11ec_b692_00155d71f8dfrow5_col1 {\n",
       "            background-color:  #2373b6;\n",
       "            color:  #f1f1f1;\n",
       "        }    #T_c8f7875a_14a0_11ec_b692_00155d71f8dfrow5_col2 {\n",
       "            background-color:  #08306b;\n",
       "            color:  #f1f1f1;\n",
       "        }    #T_c8f7875a_14a0_11ec_b692_00155d71f8dfrow5_col3 {\n",
       "            background-color:  #08306b;\n",
       "            color:  #f1f1f1;\n",
       "        }    #T_c8f7875a_14a0_11ec_b692_00155d71f8dfrow5_col4 {\n",
       "            background-color:  #08306b;\n",
       "            color:  #f1f1f1;\n",
       "        }    #T_c8f7875a_14a0_11ec_b692_00155d71f8dfrow5_col5 {\n",
       "            background-color:  #08306b;\n",
       "            color:  #f1f1f1;\n",
       "        }    #T_c8f7875a_14a0_11ec_b692_00155d71f8dfrow5_col6 {\n",
       "            background-color:  #2373b6;\n",
       "            color:  #f1f1f1;\n",
       "        }</style><table id=\"T_c8f7875a_14a0_11ec_b692_00155d71f8df\" ><thead>    <tr>        <th class=\"blank level0\" ></th>        <th class=\"col_heading level0 col0\" >월</th>        <th class=\"col_heading level0 col1\" >화</th>        <th class=\"col_heading level0 col2\" >수</th>        <th class=\"col_heading level0 col3\" >목</th>        <th class=\"col_heading level0 col4\" >금</th>        <th class=\"col_heading level0 col5\" >토</th>        <th class=\"col_heading level0 col6\" >일</th>    </tr>    <tr>        <th class=\"index_name level0\" >확진월</th>        <th class=\"blank\" ></th>        <th class=\"blank\" ></th>        <th class=\"blank\" ></th>        <th class=\"blank\" ></th>        <th class=\"blank\" ></th>        <th class=\"blank\" ></th>        <th class=\"blank\" ></th>    </tr></thead><tbody>\n",
       "                <tr>\n",
       "                        <th id=\"T_c8f7875a_14a0_11ec_b692_00155d71f8dflevel0_row0\" class=\"row_heading level0 row0\" >1</th>\n",
       "                        <td id=\"T_c8f7875a_14a0_11ec_b692_00155d71f8dfrow0_col0\" class=\"data row0 col0\" >0</td>\n",
       "                        <td id=\"T_c8f7875a_14a0_11ec_b692_00155d71f8dfrow0_col1\" class=\"data row0 col1\" >0</td>\n",
       "                        <td id=\"T_c8f7875a_14a0_11ec_b692_00155d71f8dfrow0_col2\" class=\"data row0 col2\" >0</td>\n",
       "                        <td id=\"T_c8f7875a_14a0_11ec_b692_00155d71f8dfrow0_col3\" class=\"data row0 col3\" >3</td>\n",
       "                        <td id=\"T_c8f7875a_14a0_11ec_b692_00155d71f8dfrow0_col4\" class=\"data row0 col4\" >4</td>\n",
       "                        <td id=\"T_c8f7875a_14a0_11ec_b692_00155d71f8dfrow0_col5\" class=\"data row0 col5\" >0</td>\n",
       "                        <td id=\"T_c8f7875a_14a0_11ec_b692_00155d71f8dfrow0_col6\" class=\"data row0 col6\" >0</td>\n",
       "            </tr>\n",
       "            <tr>\n",
       "                        <th id=\"T_c8f7875a_14a0_11ec_b692_00155d71f8dflevel0_row1\" class=\"row_heading level0 row1\" >2</th>\n",
       "                        <td id=\"T_c8f7875a_14a0_11ec_b692_00155d71f8dfrow1_col0\" class=\"data row1 col0\" >4</td>\n",
       "                        <td id=\"T_c8f7875a_14a0_11ec_b692_00155d71f8dfrow1_col1\" class=\"data row1 col1\" >16</td>\n",
       "                        <td id=\"T_c8f7875a_14a0_11ec_b692_00155d71f8dfrow1_col2\" class=\"data row1 col2\" >14</td>\n",
       "                        <td id=\"T_c8f7875a_14a0_11ec_b692_00155d71f8dfrow1_col3\" class=\"data row1 col3\" >19</td>\n",
       "                        <td id=\"T_c8f7875a_14a0_11ec_b692_00155d71f8dfrow1_col4\" class=\"data row1 col4\" >11</td>\n",
       "                        <td id=\"T_c8f7875a_14a0_11ec_b692_00155d71f8dfrow1_col5\" class=\"data row1 col5\" >9</td>\n",
       "                        <td id=\"T_c8f7875a_14a0_11ec_b692_00155d71f8dfrow1_col6\" class=\"data row1 col6\" >7</td>\n",
       "            </tr>\n",
       "            <tr>\n",
       "                        <th id=\"T_c8f7875a_14a0_11ec_b692_00155d71f8dflevel0_row2\" class=\"row_heading level0 row2\" >3</th>\n",
       "                        <td id=\"T_c8f7875a_14a0_11ec_b692_00155d71f8dfrow2_col0\" class=\"data row2 col0\" >69</td>\n",
       "                        <td id=\"T_c8f7875a_14a0_11ec_b692_00155d71f8dfrow2_col1\" class=\"data row2 col1\" >89</td>\n",
       "                        <td id=\"T_c8f7875a_14a0_11ec_b692_00155d71f8dfrow2_col2\" class=\"data row2 col2\" >46</td>\n",
       "                        <td id=\"T_c8f7875a_14a0_11ec_b692_00155d71f8dfrow2_col3\" class=\"data row2 col3\" >44</td>\n",
       "                        <td id=\"T_c8f7875a_14a0_11ec_b692_00155d71f8dfrow2_col4\" class=\"data row2 col4\" >48</td>\n",
       "                        <td id=\"T_c8f7875a_14a0_11ec_b692_00155d71f8dfrow2_col5\" class=\"data row2 col5\" >45</td>\n",
       "                        <td id=\"T_c8f7875a_14a0_11ec_b692_00155d71f8dfrow2_col6\" class=\"data row2 col6\" >50</td>\n",
       "            </tr>\n",
       "            <tr>\n",
       "                        <th id=\"T_c8f7875a_14a0_11ec_b692_00155d71f8dflevel0_row3\" class=\"row_heading level0 row3\" >4</th>\n",
       "                        <td id=\"T_c8f7875a_14a0_11ec_b692_00155d71f8dfrow3_col0\" class=\"data row3 col0\" >16</td>\n",
       "                        <td id=\"T_c8f7875a_14a0_11ec_b692_00155d71f8dfrow3_col1\" class=\"data row3 col1\" >17</td>\n",
       "                        <td id=\"T_c8f7875a_14a0_11ec_b692_00155d71f8dfrow3_col2\" class=\"data row3 col2\" >28</td>\n",
       "                        <td id=\"T_c8f7875a_14a0_11ec_b692_00155d71f8dfrow3_col3\" class=\"data row3 col3\" >27</td>\n",
       "                        <td id=\"T_c8f7875a_14a0_11ec_b692_00155d71f8dfrow3_col4\" class=\"data row3 col4\" >26</td>\n",
       "                        <td id=\"T_c8f7875a_14a0_11ec_b692_00155d71f8dfrow3_col5\" class=\"data row3 col5\" >22</td>\n",
       "                        <td id=\"T_c8f7875a_14a0_11ec_b692_00155d71f8dfrow3_col6\" class=\"data row3 col6\" >20</td>\n",
       "            </tr>\n",
       "            <tr>\n",
       "                        <th id=\"T_c8f7875a_14a0_11ec_b692_00155d71f8dflevel0_row4\" class=\"row_heading level0 row4\" >5</th>\n",
       "                        <td id=\"T_c8f7875a_14a0_11ec_b692_00155d71f8dfrow4_col0\" class=\"data row4 col0\" >27</td>\n",
       "                        <td id=\"T_c8f7875a_14a0_11ec_b692_00155d71f8dfrow4_col1\" class=\"data row4 col1\" >36</td>\n",
       "                        <td id=\"T_c8f7875a_14a0_11ec_b692_00155d71f8dfrow4_col2\" class=\"data row4 col2\" >34</td>\n",
       "                        <td id=\"T_c8f7875a_14a0_11ec_b692_00155d71f8dfrow4_col3\" class=\"data row4 col3\" >34</td>\n",
       "                        <td id=\"T_c8f7875a_14a0_11ec_b692_00155d71f8dfrow4_col4\" class=\"data row4 col4\" >32</td>\n",
       "                        <td id=\"T_c8f7875a_14a0_11ec_b692_00155d71f8dfrow4_col5\" class=\"data row4 col5\" >36</td>\n",
       "                        <td id=\"T_c8f7875a_14a0_11ec_b692_00155d71f8dfrow4_col6\" class=\"data row4 col6\" >29</td>\n",
       "            </tr>\n",
       "            <tr>\n",
       "                        <th id=\"T_c8f7875a_14a0_11ec_b692_00155d71f8dflevel0_row5\" class=\"row_heading level0 row5\" >6</th>\n",
       "                        <td id=\"T_c8f7875a_14a0_11ec_b692_00155d71f8dfrow5_col0\" class=\"data row5 col0\" >55</td>\n",
       "                        <td id=\"T_c8f7875a_14a0_11ec_b692_00155d71f8dfrow5_col1\" class=\"data row5 col1\" >66</td>\n",
       "                        <td id=\"T_c8f7875a_14a0_11ec_b692_00155d71f8dfrow5_col2\" class=\"data row5 col2\" >66</td>\n",
       "                        <td id=\"T_c8f7875a_14a0_11ec_b692_00155d71f8dfrow5_col3\" class=\"data row5 col3\" >75</td>\n",
       "                        <td id=\"T_c8f7875a_14a0_11ec_b692_00155d71f8dfrow5_col4\" class=\"data row5 col4\" >90</td>\n",
       "                        <td id=\"T_c8f7875a_14a0_11ec_b692_00155d71f8dfrow5_col5\" class=\"data row5 col5\" >70</td>\n",
       "                        <td id=\"T_c8f7875a_14a0_11ec_b692_00155d71f8dfrow5_col6\" class=\"data row5 col6\" >37</td>\n",
       "            </tr>\n",
       "    </tbody></table>"
      ],
      "text/plain": [
       "<pandas.io.formats.style.Styler at 0x29aa6ede3d0>"
      ]
     },
     "execution_count": 127,
     "metadata": {},
     "output_type": "execute_result"
    }
   ],
   "source": [
    "all_day_week.style.background_gradient(cmap = \"Blues\")"
   ]
  },
  {
   "cell_type": "markdown",
   "metadata": {},
   "source": [
    "### cumulative sum (누적 확진자 수)"
   ]
  },
  {
   "cell_type": "code",
   "execution_count": 95,
   "metadata": {
    "ExecuteTime": {
     "end_time": "2021-09-13T14:11:54.465932Z",
     "start_time": "2021-09-13T14:11:54.445541Z"
    }
   },
   "outputs": [
    {
     "data": {
      "text/plain": [
       "확진수    1321.0\n",
       "dtype: float64"
      ]
     },
     "execution_count": 95,
     "metadata": {},
     "output_type": "execute_result"
    }
   ],
   "source": [
    "all_day.sum()"
   ]
  },
  {
   "cell_type": "code",
   "execution_count": 96,
   "metadata": {
    "ExecuteTime": {
     "end_time": "2021-09-13T14:11:54.731059Z",
     "start_time": "2021-09-13T14:11:54.682297Z"
    }
   },
   "outputs": [
    {
     "data": {
      "text/html": [
       "<div>\n",
       "<style scoped>\n",
       "    .dataframe tbody tr th:only-of-type {\n",
       "        vertical-align: middle;\n",
       "    }\n",
       "\n",
       "    .dataframe tbody tr th {\n",
       "        vertical-align: top;\n",
       "    }\n",
       "\n",
       "    .dataframe thead th {\n",
       "        text-align: right;\n",
       "    }\n",
       "</style>\n",
       "<table border=\"1\" class=\"dataframe\">\n",
       "  <thead>\n",
       "    <tr style=\"text-align: right;\">\n",
       "      <th></th>\n",
       "      <th>확진일자</th>\n",
       "      <th>확진수</th>\n",
       "      <th>누적확진</th>\n",
       "    </tr>\n",
       "  </thead>\n",
       "  <tbody>\n",
       "    <tr>\n",
       "      <th>0</th>\n",
       "      <td>2020-01-24</td>\n",
       "      <td>1.0</td>\n",
       "      <td>1.0</td>\n",
       "    </tr>\n",
       "    <tr>\n",
       "      <th>1</th>\n",
       "      <td>2020-01-25</td>\n",
       "      <td>0.0</td>\n",
       "      <td>1.0</td>\n",
       "    </tr>\n",
       "    <tr>\n",
       "      <th>2</th>\n",
       "      <td>2020-01-26</td>\n",
       "      <td>0.0</td>\n",
       "      <td>1.0</td>\n",
       "    </tr>\n",
       "    <tr>\n",
       "      <th>3</th>\n",
       "      <td>2020-01-27</td>\n",
       "      <td>0.0</td>\n",
       "      <td>1.0</td>\n",
       "    </tr>\n",
       "    <tr>\n",
       "      <th>4</th>\n",
       "      <td>2020-01-28</td>\n",
       "      <td>0.0</td>\n",
       "      <td>1.0</td>\n",
       "    </tr>\n",
       "    <tr>\n",
       "      <th>...</th>\n",
       "      <td>...</td>\n",
       "      <td>...</td>\n",
       "      <td>...</td>\n",
       "    </tr>\n",
       "    <tr>\n",
       "      <th>154</th>\n",
       "      <td>2020-06-26</td>\n",
       "      <td>17.0</td>\n",
       "      <td>1284.0</td>\n",
       "    </tr>\n",
       "    <tr>\n",
       "      <th>155</th>\n",
       "      <td>2020-06-27</td>\n",
       "      <td>14.0</td>\n",
       "      <td>1298.0</td>\n",
       "    </tr>\n",
       "    <tr>\n",
       "      <th>156</th>\n",
       "      <td>2020-06-28</td>\n",
       "      <td>7.0</td>\n",
       "      <td>1305.0</td>\n",
       "    </tr>\n",
       "    <tr>\n",
       "      <th>157</th>\n",
       "      <td>2020-06-29</td>\n",
       "      <td>8.0</td>\n",
       "      <td>1313.0</td>\n",
       "    </tr>\n",
       "    <tr>\n",
       "      <th>158</th>\n",
       "      <td>2020-06-30</td>\n",
       "      <td>8.0</td>\n",
       "      <td>1321.0</td>\n",
       "    </tr>\n",
       "  </tbody>\n",
       "</table>\n",
       "<p>159 rows × 3 columns</p>\n",
       "</div>"
      ],
      "text/plain": [
       "          확진일자   확진수    누적확진\n",
       "0   2020-01-24   1.0     1.0\n",
       "1   2020-01-25   0.0     1.0\n",
       "2   2020-01-26   0.0     1.0\n",
       "3   2020-01-27   0.0     1.0\n",
       "4   2020-01-28   0.0     1.0\n",
       "..         ...   ...     ...\n",
       "154 2020-06-26  17.0  1284.0\n",
       "155 2020-06-27  14.0  1298.0\n",
       "156 2020-06-28   7.0  1305.0\n",
       "157 2020-06-29   8.0  1313.0\n",
       "158 2020-06-30   8.0  1321.0\n",
       "\n",
       "[159 rows x 3 columns]"
      ]
     },
     "execution_count": 96,
     "metadata": {},
     "output_type": "execute_result"
    }
   ],
   "source": [
    "all_day['확진수'].fillna(0, inplace=True)\n",
    "all_day['누적확진'] = all_day['확진수'].cumsum()\n",
    "all_day"
   ]
  },
  {
   "cell_type": "code",
   "execution_count": 97,
   "metadata": {
    "ExecuteTime": {
     "end_time": "2021-09-13T14:11:54.925282Z",
     "start_time": "2021-09-13T14:11:54.880699Z"
    }
   },
   "outputs": [
    {
     "data": {
      "text/html": [
       "<div>\n",
       "<style scoped>\n",
       "    .dataframe tbody tr th:only-of-type {\n",
       "        vertical-align: middle;\n",
       "    }\n",
       "\n",
       "    .dataframe tbody tr th {\n",
       "        vertical-align: top;\n",
       "    }\n",
       "\n",
       "    .dataframe thead th {\n",
       "        text-align: right;\n",
       "    }\n",
       "</style>\n",
       "<table border=\"1\" class=\"dataframe\">\n",
       "  <thead>\n",
       "    <tr style=\"text-align: right;\">\n",
       "      <th></th>\n",
       "      <th>확진수</th>\n",
       "      <th>누적확진</th>\n",
       "    </tr>\n",
       "    <tr>\n",
       "      <th>확진일자</th>\n",
       "      <th></th>\n",
       "      <th></th>\n",
       "    </tr>\n",
       "  </thead>\n",
       "  <tbody>\n",
       "    <tr>\n",
       "      <th>01-24</th>\n",
       "      <td>1.0</td>\n",
       "      <td>1.0</td>\n",
       "    </tr>\n",
       "    <tr>\n",
       "      <th>01-25</th>\n",
       "      <td>0.0</td>\n",
       "      <td>1.0</td>\n",
       "    </tr>\n",
       "    <tr>\n",
       "      <th>01-26</th>\n",
       "      <td>0.0</td>\n",
       "      <td>1.0</td>\n",
       "    </tr>\n",
       "    <tr>\n",
       "      <th>01-27</th>\n",
       "      <td>0.0</td>\n",
       "      <td>1.0</td>\n",
       "    </tr>\n",
       "    <tr>\n",
       "      <th>01-28</th>\n",
       "      <td>0.0</td>\n",
       "      <td>1.0</td>\n",
       "    </tr>\n",
       "    <tr>\n",
       "      <th>...</th>\n",
       "      <td>...</td>\n",
       "      <td>...</td>\n",
       "    </tr>\n",
       "    <tr>\n",
       "      <th>06-26</th>\n",
       "      <td>17.0</td>\n",
       "      <td>1284.0</td>\n",
       "    </tr>\n",
       "    <tr>\n",
       "      <th>06-27</th>\n",
       "      <td>14.0</td>\n",
       "      <td>1298.0</td>\n",
       "    </tr>\n",
       "    <tr>\n",
       "      <th>06-28</th>\n",
       "      <td>7.0</td>\n",
       "      <td>1305.0</td>\n",
       "    </tr>\n",
       "    <tr>\n",
       "      <th>06-29</th>\n",
       "      <td>8.0</td>\n",
       "      <td>1313.0</td>\n",
       "    </tr>\n",
       "    <tr>\n",
       "      <th>06-30</th>\n",
       "      <td>8.0</td>\n",
       "      <td>1321.0</td>\n",
       "    </tr>\n",
       "  </tbody>\n",
       "</table>\n",
       "<p>159 rows × 2 columns</p>\n",
       "</div>"
      ],
      "text/plain": [
       "        확진수    누적확진\n",
       "확진일자               \n",
       "01-24   1.0     1.0\n",
       "01-25   0.0     1.0\n",
       "01-26   0.0     1.0\n",
       "01-27   0.0     1.0\n",
       "01-28   0.0     1.0\n",
       "...     ...     ...\n",
       "06-26  17.0  1284.0\n",
       "06-27  14.0  1298.0\n",
       "06-28   7.0  1305.0\n",
       "06-29   8.0  1313.0\n",
       "06-30   8.0  1321.0\n",
       "\n",
       "[159 rows x 2 columns]"
      ]
     },
     "execution_count": 97,
     "metadata": {},
     "output_type": "execute_result"
    }
   ],
   "source": [
    "all_day['확진일자'] = all_day['확진일자'].astype(str).map(lambda x : x[-5:])\n",
    "all_day = all_day.set_index('확진일자')\n",
    "all_day"
   ]
  },
  {
   "cell_type": "markdown",
   "metadata": {},
   "source": []
  },
  {
   "cell_type": "code",
   "execution_count": null,
   "metadata": {},
   "outputs": [],
   "source": []
  },
  {
   "cell_type": "code",
   "execution_count": null,
   "metadata": {},
   "outputs": [],
   "source": []
  },
  {
   "cell_type": "code",
   "execution_count": null,
   "metadata": {},
   "outputs": [],
   "source": []
  },
  {
   "cell_type": "markdown",
   "metadata": {},
   "source": [
    "# Visualization"
   ]
  },
  {
   "cell_type": "code",
   "execution_count": 30,
   "metadata": {
    "ExecuteTime": {
     "end_time": "2021-09-13T13:46:24.981102Z",
     "start_time": "2021-09-13T13:46:24.960608Z"
    }
   },
   "outputs": [],
   "source": [
    "# 한글 폰트, -(마이너스) 설정\n",
    "# fivethirtyeight 스타일 사용\n",
    "\n",
    "plt.rc(\"font\", family = \"Malgun Gothic\")\n",
    "plt.rc(\"axes\", unicode_minus = False)\n",
    "plt.style.use('fivethirtyeight')"
   ]
  },
  {
   "cell_type": "code",
   "execution_count": 31,
   "metadata": {
    "ExecuteTime": {
     "end_time": "2021-09-13T13:46:25.009814Z",
     "start_time": "2021-09-13T13:46:24.994487Z"
    }
   },
   "outputs": [],
   "source": [
    "# retina 디스플레이가 지원되는 환경에서 시각화의 폰트가 좀 더 선명해 보임\n",
    "from IPython.display import set_matplotlib_formats\n",
    "set_matplotlib_formats(\"retina\")"
   ]
  },
  {
   "cell_type": "markdown",
   "metadata": {},
   "source": [
    "## 확진일, 월, 주"
   ]
  },
  {
   "cell_type": "code",
   "execution_count": 32,
   "metadata": {
    "ExecuteTime": {
     "end_time": "2021-09-13T13:46:25.787431Z",
     "start_time": "2021-09-13T13:46:25.026739Z"
    }
   },
   "outputs": [
    {
     "data": {
      "image/png": "[encoded data removed]",
      "text/plain": [
       "<Figure size 1080x288 with 1 Axes>"
      ]
     },
     "metadata": {
      "image/png": {
       "height": 266,
       "width": 972
      }
     },
     "output_type": "display_data"
    }
   ],
   "source": [
    "# 시계열 데이터라 시간 순서대로 표현됌\n",
    "day_count = data['확진월일'].value_counts().sort_index()\n",
    "\n",
    "dcp = day_count.plot(figsize=(15,4))\n",
    "for i in range(len(day_count)):\n",
    "    case_count = day_count.iloc[i]\n",
    "    if case_count > 20:\n",
    "        dcp.text(x=i, y = case_count, s = case_count)"
   ]
  },
  {
   "cell_type": "code",
   "execution_count": 33,
   "metadata": {
    "ExecuteTime": {
     "end_time": "2021-09-13T13:46:28.375385Z",
     "start_time": "2021-09-13T13:46:25.820482Z"
    }
   },
   "outputs": [
    {
     "data": {
      "image/png": "[encoded data removed]",
      "text/plain": [
       "<Figure size 1080x288 with 1 Axes>"
      ]
     },
     "metadata": {
      "image/png": {
       "height": 287,
       "width": 972
      }
     },
     "output_type": "display_data"
    }
   ],
   "source": [
    "# 최근 날짜 barplot\n",
    "dcpb = day_count[-50:].plot.bar(figsize = (15,4))\n",
    "dcpb.axhline(8, linestyle=':', color = 'red')\n",
    "\n",
    "for i in range(50):\n",
    "    case_count = day_count[-50:].iloc[i]\n",
    "    if case_count > 10:\n",
    "        dcpb.text(x=i, y = case_count, s = case_count)"
   ]
  },
  {
   "cell_type": "code",
   "execution_count": 34,
   "metadata": {
    "ExecuteTime": {
     "end_time": "2021-09-13T13:46:29.259285Z",
     "start_time": "2021-09-13T13:46:28.389390Z"
    }
   },
   "outputs": [
    {
     "data": {
      "image/png": "[encoded data removed]",
      "text/plain": [
       "<Figure size 432x288 with 1 Axes>"
      ]
     },
     "metadata": {
      "image/png": {
       "height": 265,
       "width": 416
      }
     },
     "output_type": "display_data"
    }
   ],
   "source": [
    "# 월별\n",
    "month_count = data['확진월'].value_counts().sort_index()\n",
    "mcpb = month_count.plot.bar(rot = 0)\n",
    "\n",
    "for i in range(len(month_count)):\n",
    "    case_count = month_count.iloc[i]\n",
    "    mcpb.text(x=i, y = case_count, s = case_count)"
   ]
  },
  {
   "cell_type": "code",
   "execution_count": 35,
   "metadata": {
    "ExecuteTime": {
     "end_time": "2021-09-13T13:46:31.394232Z",
     "start_time": "2021-09-13T13:46:29.263303Z"
    }
   },
   "outputs": [
    {
     "data": {
      "image/png": "[encoded data removed]",
      "text/plain": [
       "<Figure size 1080x288 with 1 Axes>"
      ]
     },
     "metadata": {
      "image/png": {
       "height": 270,
       "width": 980
      }
     },
     "output_type": "display_data"
    }
   ],
   "source": [
    "# 주별\n",
    "week_count = data['확진주'].value_counts().sort_index()\n",
    "wcpb = week_count.plot.bar(figsize = (15,4), rot = 0)\n",
    "\n",
    "for i in range(len(week_count)):\n",
    "    case_count = week_count.iloc[i]\n",
    "    wcpb.text(x=i, y = case_count, s = case_count)"
   ]
  },
  {
   "cell_type": "code",
   "execution_count": 36,
   "metadata": {
    "ExecuteTime": {
     "end_time": "2021-09-13T13:46:32.607395Z",
     "start_time": "2021-09-13T13:46:31.401914Z"
    }
   },
   "outputs": [
    {
     "data": {
      "text/plain": [
       "<matplotlib.axes._subplots.AxesSubplot at 0x29aa15f1cd0>"
      ]
     },
     "execution_count": 36,
     "metadata": {},
     "output_type": "execute_result"
    },
    {
     "data": {
      "image/png": "[encoded data removed]",
      "text/plain": [
       "<Figure size 1080x288 with 1 Axes>"
      ]
     },
     "metadata": {
      "image/png": {
       "height": 308,
       "width": 984
      }
     },
     "output_type": "display_data"
    }
   ],
   "source": [
    "# 월-주 함께\n",
    "# 여러 조건으로 count할 때는 value_counts() 사용 불가 -> groupby 사용\n",
    "# multi index로 나옴\n",
    "month_week_count = data.groupby(['확진월', '확진주'])['확진일'].count()\n",
    "month_week_count.plot.bar(figsize=(15,4), rot = 30)"
   ]
  },
  {
   "cell_type": "markdown",
   "metadata": {},
   "source": [
    "## cumulative sum"
   ]
  },
  {
   "cell_type": "code",
   "execution_count": 100,
   "metadata": {
    "ExecuteTime": {
     "end_time": "2021-09-13T14:13:43.964635Z",
     "start_time": "2021-09-13T14:13:43.479795Z"
    }
   },
   "outputs": [
    {
     "data": {
      "image/png": "[encoded data removed]",
      "text/plain": [
       "<Figure size 1080x288 with 1 Axes>"
      ]
     },
     "metadata": {
      "image/png": {
       "height": 286,
       "width": 988
      }
     },
     "output_type": "display_data"
    }
   ],
   "source": [
    "all_day.plot(figsize = (15,4))\n",
    "plt.show()"
   ]
  },
  {
   "cell_type": "code",
   "execution_count": 101,
   "metadata": {
    "ExecuteTime": {
     "end_time": "2021-09-13T14:15:13.808142Z",
     "start_time": "2021-09-13T14:15:13.043429Z"
    }
   },
   "outputs": [
    {
     "data": {
      "image/png": "[encoded data removed]",
      "text/plain": [
       "<Figure size 1080x288 with 1 Axes>"
      ]
     },
     "metadata": {
      "image/png": {
       "height": 286,
       "width": 972
      }
     },
     "output_type": "display_data"
    }
   ],
   "source": [
    "all_day['확진수'].plot(figsize = (15,4))\n",
    "plt.show()"
   ]
  },
  {
   "cell_type": "code",
   "execution_count": 102,
   "metadata": {
    "ExecuteTime": {
     "end_time": "2021-09-13T14:15:21.816676Z",
     "start_time": "2021-09-13T14:15:21.201514Z"
    }
   },
   "outputs": [
    {
     "data": {
      "image/png": "[encoded data removed]",
      "text/plain": [
       "<Figure size 1080x288 with 1 Axes>"
      ]
     },
     "metadata": {
      "image/png": {
       "height": 286,
       "width": 988
      }
     },
     "output_type": "display_data"
    }
   ],
   "source": [
    "all_day['누적확진'].plot(figsize = (15,4))\n",
    "plt.show()"
   ]
  },
  {
   "cell_type": "markdown",
   "metadata": {},
   "source": [
    "## log scale\n",
    "- 차이가 너무 커서 그래프가 자세히 보이지 않을 때 로그스케일로 표현하면 차이가 큰 값의 스케일을 조정해주게 됨\n",
    "- Log는 1이하의 값이 -무한대로 수렴하기 때문에 +1 해줌"
   ]
  },
  {
   "cell_type": "code",
   "execution_count": 103,
   "metadata": {
    "ExecuteTime": {
     "end_time": "2021-09-13T14:18:24.123674Z",
     "start_time": "2021-09-13T14:18:23.674770Z"
    }
   },
   "outputs": [
    {
     "data": {
      "image/png": "[encoded data removed]",
      "text/plain": [
       "<Figure size 1080x288 with 1 Axes>"
      ]
     },
     "metadata": {
      "image/png": {
       "height": 286,
       "width": 965
      }
     },
     "output_type": "display_data"
    }
   ],
   "source": [
    "np.log(all_day['확진수'] + 1).plot(figsize = (15,4))\n",
    "np.log(all_day['누적확진'] + 1).plot()\n",
    "plt.show()"
   ]
  },
  {
   "cell_type": "code",
   "execution_count": null,
   "metadata": {},
   "outputs": [],
   "source": []
  }
 ],
 "metadata": {
  "hide_input": false,
  "kernelspec": {
   "display_name": "Python 3",
   "language": "python",
   "name": "python3"
  },
  "language_info": {
   "codemirror_mode": {
    "name": "ipython",
    "version": 3
   },
   "file_extension": ".py",
   "mimetype": "text/x-python",
   "name": "python",
   "nbconvert_exporter": "python",
   "pygments_lexer": "ipython3",
   "version": "3.8.3"
  },
  "toc": {
   "base_numbering": 1,
   "nav_menu": {},
   "number_sections": true,
   "sideBar": true,
   "skip_h1_title": false,
   "title_cell": "Table of Contents",
   "title_sidebar": "Contents",
   "toc_cell": false,
   "toc_position": {
    "height": "calc(100% - 180px)",
    "left": "10px",
    "top": "150px",
    "width": "282.754px"
   },
   "toc_section_display": true,
   "toc_window_display": true
  },
  "varInspector": {
   "cols": {
    "lenName": 16,
    "lenType": 16,
    "lenVar": 40
   },
   "kernels_config": {
    "python": {
     "delete_cmd_postfix": "",
     "delete_cmd_prefix": "del ",
     "library": "var_list.py",
     "varRefreshCmd": "print(var_dic_list())"
    },
    "r": {
     "delete_cmd_postfix": ") ",
     "delete_cmd_prefix": "rm(",
     "library": "var_list.r",
     "varRefreshCmd": "cat(var_dic_list()) "
    }
   },
   "types_to_exclude": [
    "module",
    "function",
    "builtin_function_or_method",
    "instance",
    "_Feature"
   ],
   "window_display": false
  }
 },
 "nbformat": 4,
 "nbformat_minor": 4
}
